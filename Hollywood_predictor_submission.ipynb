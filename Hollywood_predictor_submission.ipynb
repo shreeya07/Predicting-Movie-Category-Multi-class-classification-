{
 "cells": [
  {
   "cell_type": "markdown",
   "metadata": {},
   "source": [
    "## Predicting Financial Success of a Movie.\n",
    "\n",
    "### Introduction\n",
    "\n",
    "The uncertainty associated with the predictability of success of movie at box office have intrigued many industry leaders. In this we are trying to predict the movie category from flop to blockbuster based on other factors in a dataset. \n",
    "\n",
    "### Dataset\n",
    "\n",
    "For this Hollywood Movies Financial Success Predictor Dataset was given, which consisted of Training Sheet and Scoring Sheet. Based on Training sheet, a predictor model is created. \n",
    "\n",
    "Dataset Consist of 1196 records and 15 columns. The purpose is to classify a category of movie from flop to blockbuster. There are 9 categories. This is the Multi-class classification problem.\n",
    "\n",
    "I have analyzed dataset to find insights and performed data pre-processing and data cleaning. I have applied Decision Tree,Support Vector Machine Algorithm,K-NN, and Neural Network Algorithm.\n",
    "\n",
    "After Applying Machine Learning Algorithm, I have calculated accuracy by using metrics:Recall, Precision,F-1 Score, and cross val score.\n"
   ]
  },
  {
   "cell_type": "code",
   "execution_count": 1,
   "metadata": {},
   "outputs": [],
   "source": [
    "#Importing Libraries\n",
    "\n",
    "import numpy as np\n",
    "import pandas as pd\n",
    "import matplotlib.pyplot as plt\n",
    "import seaborn as sb\n"
   ]
  },
  {
   "cell_type": "code",
   "execution_count": 2,
   "metadata": {
    "scrolled": true
   },
   "outputs": [
    {
     "data": {
      "text/html": [
       "<div>\n",
       "<style scoped>\n",
       "    .dataframe tbody tr th:only-of-type {\n",
       "        vertical-align: middle;\n",
       "    }\n",
       "\n",
       "    .dataframe tbody tr th {\n",
       "        vertical-align: top;\n",
       "    }\n",
       "\n",
       "    .dataframe thead th {\n",
       "        text-align: right;\n",
       "    }\n",
       "</style>\n",
       "<table border=\"1\" class=\"dataframe\">\n",
       "  <thead>\n",
       "    <tr style=\"text-align: right;\">\n",
       "      <th></th>\n",
       "      <th>id</th>\n",
       "      <th>name</th>\n",
       "      <th>display_name</th>\n",
       "      <th>production_year</th>\n",
       "      <th>movie_sequel</th>\n",
       "      <th>creative_type</th>\n",
       "      <th>source</th>\n",
       "      <th>production_method</th>\n",
       "      <th>genre</th>\n",
       "      <th>language</th>\n",
       "      <th>board_rating_reason</th>\n",
       "      <th>movie_board_rating_display_name</th>\n",
       "      <th>movie_release_pattern_display_name</th>\n",
       "      <th>total</th>\n",
       "      <th>Category</th>\n",
       "    </tr>\n",
       "  </thead>\n",
       "  <tbody>\n",
       "    <tr>\n",
       "      <th>0</th>\n",
       "      <td>7950115</td>\n",
       "      <td>Avatar</td>\n",
       "      <td>Avatar</td>\n",
       "      <td>2009</td>\n",
       "      <td>0</td>\n",
       "      <td>Science Fiction</td>\n",
       "      <td>Original Screenplay</td>\n",
       "      <td>Animation/Live Action</td>\n",
       "      <td>Action</td>\n",
       "      <td>English</td>\n",
       "      <td>For intense epic battle sequences and warfare,...</td>\n",
       "      <td>PG-13</td>\n",
       "      <td>Wide</td>\n",
       "      <td>2784</td>\n",
       "      <td>9</td>\n",
       "    </tr>\n",
       "    <tr>\n",
       "      <th>1</th>\n",
       "      <td></td>\n",
       "      <td>Harry Potter and the Deathly Hallows: Part II</td>\n",
       "      <td>Harry Potter and the Deathly Hallows: Part II</td>\n",
       "      <td>2011</td>\n",
       "      <td>1</td>\n",
       "      <td>Fantasy</td>\n",
       "      <td>Based on Fiction Book/Short Story</td>\n",
       "      <td>Animation/Live Action</td>\n",
       "      <td>Adventure</td>\n",
       "      <td>English</td>\n",
       "      <td>for some sequences of intense action violence ...</td>\n",
       "      <td>PG-13</td>\n",
       "      <td>Wide</td>\n",
       "      <td>1328</td>\n",
       "      <td>9</td>\n",
       "    </tr>\n",
       "    <tr>\n",
       "      <th>2</th>\n",
       "      <td>119870115</td>\n",
       "      <td>Transformers 3</td>\n",
       "      <td>Transformers: Dark of the Moon</td>\n",
       "      <td>2011</td>\n",
       "      <td>1</td>\n",
       "      <td>Science Fiction</td>\n",
       "      <td>Based on TV</td>\n",
       "      <td>Animation/Live Action</td>\n",
       "      <td>Action</td>\n",
       "      <td>English</td>\n",
       "      <td>for intense prolonged sequences of sci-fi acti...</td>\n",
       "      <td>PG-13</td>\n",
       "      <td>Wide</td>\n",
       "      <td>1124</td>\n",
       "      <td>9</td>\n",
       "    </tr>\n",
       "    <tr>\n",
       "      <th>3</th>\n",
       "      <td>119590115</td>\n",
       "      <td>Toy Story 3</td>\n",
       "      <td>Toy Story 3</td>\n",
       "      <td>2010</td>\n",
       "      <td>1</td>\n",
       "      <td>Kids Fiction</td>\n",
       "      <td>Original Screenplay</td>\n",
       "      <td>Digital Animation</td>\n",
       "      <td>Adventure</td>\n",
       "      <td>English</td>\n",
       "      <td>General</td>\n",
       "      <td>G</td>\n",
       "      <td>Wide</td>\n",
       "      <td>1064</td>\n",
       "      <td>9</td>\n",
       "    </tr>\n",
       "    <tr>\n",
       "      <th>4</th>\n",
       "      <td>91700115</td>\n",
       "      <td>Pirates of the Caribbean 4</td>\n",
       "      <td>Pirates of the Caribbean: On Stranger Tides</td>\n",
       "      <td>2011</td>\n",
       "      <td>1</td>\n",
       "      <td>Fantasy</td>\n",
       "      <td>Based on Theme Park Ride</td>\n",
       "      <td>Live Action</td>\n",
       "      <td>Adventure</td>\n",
       "      <td>English</td>\n",
       "      <td>for intense sequences of action/adventure viol...</td>\n",
       "      <td>PG-13</td>\n",
       "      <td>Wide</td>\n",
       "      <td>1044</td>\n",
       "      <td>9</td>\n",
       "    </tr>\n",
       "  </tbody>\n",
       "</table>\n",
       "</div>"
      ],
      "text/plain": [
       "          id                                           name  \\\n",
       "0    7950115                                         Avatar   \n",
       "1             Harry Potter and the Deathly Hallows: Part II   \n",
       "2  119870115                                 Transformers 3   \n",
       "3  119590115                                    Toy Story 3   \n",
       "4   91700115                     Pirates of the Caribbean 4   \n",
       "\n",
       "                                    display_name  production_year  \\\n",
       "0                                         Avatar             2009   \n",
       "1  Harry Potter and the Deathly Hallows: Part II             2011   \n",
       "2                 Transformers: Dark of the Moon             2011   \n",
       "3                                    Toy Story 3             2010   \n",
       "4    Pirates of the Caribbean: On Stranger Tides             2011   \n",
       "\n",
       "   movie_sequel    creative_type                             source  \\\n",
       "0             0  Science Fiction                Original Screenplay   \n",
       "1             1          Fantasy  Based on Fiction Book/Short Story   \n",
       "2             1  Science Fiction                        Based on TV   \n",
       "3             1     Kids Fiction                Original Screenplay   \n",
       "4             1          Fantasy           Based on Theme Park Ride   \n",
       "\n",
       "       production_method      genre language  \\\n",
       "0  Animation/Live Action     Action  English   \n",
       "1  Animation/Live Action  Adventure  English   \n",
       "2  Animation/Live Action     Action  English   \n",
       "3      Digital Animation  Adventure  English   \n",
       "4            Live Action  Adventure  English   \n",
       "\n",
       "                                 board_rating_reason  \\\n",
       "0  For intense epic battle sequences and warfare,...   \n",
       "1  for some sequences of intense action violence ...   \n",
       "2  for intense prolonged sequences of sci-fi acti...   \n",
       "3                                            General   \n",
       "4  for intense sequences of action/adventure viol...   \n",
       "\n",
       "  movie_board_rating_display_name movie_release_pattern_display_name  total  \\\n",
       "0                           PG-13                               Wide   2784   \n",
       "1                           PG-13                               Wide   1328   \n",
       "2                           PG-13                               Wide   1124   \n",
       "3                               G                               Wide   1064   \n",
       "4                           PG-13                               Wide   1044   \n",
       "\n",
       "   Category  \n",
       "0         9  \n",
       "1         9  \n",
       "2         9  \n",
       "3         9  \n",
       "4         9  "
      ]
     },
     "execution_count": 2,
     "metadata": {},
     "output_type": "execute_result"
    }
   ],
   "source": [
    "#Reading Dataset\n",
    "\n",
    "dataframe= pd.read_csv('Training sheet.csv')\n",
    "dataframe.head()"
   ]
  },
  {
   "cell_type": "code",
   "execution_count": 3,
   "metadata": {},
   "outputs": [
    {
     "data": {
      "text/plain": [
       "(1196, 15)"
      ]
     },
     "execution_count": 3,
     "metadata": {},
     "output_type": "execute_result"
    }
   ],
   "source": [
    "#Finding Shape\n",
    "dataframe.shape"
   ]
  },
  {
   "cell_type": "code",
   "execution_count": 4,
   "metadata": {},
   "outputs": [
    {
     "data": {
      "text/plain": [
       "Index(['id', 'name', 'display_name', 'production_year', 'movie_sequel',\n",
       "       'creative_type', 'source', 'production_method', 'genre', 'language',\n",
       "       'board_rating_reason', 'movie_board_rating_display_name',\n",
       "       'movie_release_pattern_display_name', 'total', 'Category'],\n",
       "      dtype='object')"
      ]
     },
     "execution_count": 4,
     "metadata": {},
     "output_type": "execute_result"
    }
   ],
   "source": [
    "#Identifying columns\n",
    "\n",
    "dataframe.columns"
   ]
  },
  {
   "cell_type": "code",
   "execution_count": 5,
   "metadata": {},
   "outputs": [
    {
     "data": {
      "text/html": [
       "<div>\n",
       "<style scoped>\n",
       "    .dataframe tbody tr th:only-of-type {\n",
       "        vertical-align: middle;\n",
       "    }\n",
       "\n",
       "    .dataframe tbody tr th {\n",
       "        vertical-align: top;\n",
       "    }\n",
       "\n",
       "    .dataframe thead th {\n",
       "        text-align: right;\n",
       "    }\n",
       "</style>\n",
       "<table border=\"1\" class=\"dataframe\">\n",
       "  <thead>\n",
       "    <tr style=\"text-align: right;\">\n",
       "      <th></th>\n",
       "      <th>production_year</th>\n",
       "      <th>movie_sequel</th>\n",
       "      <th>creative_type</th>\n",
       "      <th>source</th>\n",
       "      <th>production_method</th>\n",
       "      <th>genre</th>\n",
       "      <th>language</th>\n",
       "      <th>board_rating_reason</th>\n",
       "      <th>movie_board_rating_display_name</th>\n",
       "      <th>movie_release_pattern_display_name</th>\n",
       "      <th>total</th>\n",
       "      <th>Category</th>\n",
       "    </tr>\n",
       "  </thead>\n",
       "  <tbody>\n",
       "    <tr>\n",
       "      <th>0</th>\n",
       "      <td>2009</td>\n",
       "      <td>0</td>\n",
       "      <td>Science Fiction</td>\n",
       "      <td>Original Screenplay</td>\n",
       "      <td>Animation/Live Action</td>\n",
       "      <td>Action</td>\n",
       "      <td>English</td>\n",
       "      <td>For intense epic battle sequences and warfare,...</td>\n",
       "      <td>PG-13</td>\n",
       "      <td>Wide</td>\n",
       "      <td>2784</td>\n",
       "      <td>9</td>\n",
       "    </tr>\n",
       "    <tr>\n",
       "      <th>1</th>\n",
       "      <td>2011</td>\n",
       "      <td>1</td>\n",
       "      <td>Fantasy</td>\n",
       "      <td>Based on Fiction Book/Short Story</td>\n",
       "      <td>Animation/Live Action</td>\n",
       "      <td>Adventure</td>\n",
       "      <td>English</td>\n",
       "      <td>for some sequences of intense action violence ...</td>\n",
       "      <td>PG-13</td>\n",
       "      <td>Wide</td>\n",
       "      <td>1328</td>\n",
       "      <td>9</td>\n",
       "    </tr>\n",
       "    <tr>\n",
       "      <th>2</th>\n",
       "      <td>2011</td>\n",
       "      <td>1</td>\n",
       "      <td>Science Fiction</td>\n",
       "      <td>Based on TV</td>\n",
       "      <td>Animation/Live Action</td>\n",
       "      <td>Action</td>\n",
       "      <td>English</td>\n",
       "      <td>for intense prolonged sequences of sci-fi acti...</td>\n",
       "      <td>PG-13</td>\n",
       "      <td>Wide</td>\n",
       "      <td>1124</td>\n",
       "      <td>9</td>\n",
       "    </tr>\n",
       "    <tr>\n",
       "      <th>3</th>\n",
       "      <td>2010</td>\n",
       "      <td>1</td>\n",
       "      <td>Kids Fiction</td>\n",
       "      <td>Original Screenplay</td>\n",
       "      <td>Digital Animation</td>\n",
       "      <td>Adventure</td>\n",
       "      <td>English</td>\n",
       "      <td>General</td>\n",
       "      <td>G</td>\n",
       "      <td>Wide</td>\n",
       "      <td>1064</td>\n",
       "      <td>9</td>\n",
       "    </tr>\n",
       "    <tr>\n",
       "      <th>4</th>\n",
       "      <td>2011</td>\n",
       "      <td>1</td>\n",
       "      <td>Fantasy</td>\n",
       "      <td>Based on Theme Park Ride</td>\n",
       "      <td>Live Action</td>\n",
       "      <td>Adventure</td>\n",
       "      <td>English</td>\n",
       "      <td>for intense sequences of action/adventure viol...</td>\n",
       "      <td>PG-13</td>\n",
       "      <td>Wide</td>\n",
       "      <td>1044</td>\n",
       "      <td>9</td>\n",
       "    </tr>\n",
       "  </tbody>\n",
       "</table>\n",
       "</div>"
      ],
      "text/plain": [
       "   production_year  movie_sequel    creative_type  \\\n",
       "0             2009             0  Science Fiction   \n",
       "1             2011             1          Fantasy   \n",
       "2             2011             1  Science Fiction   \n",
       "3             2010             1     Kids Fiction   \n",
       "4             2011             1          Fantasy   \n",
       "\n",
       "                              source      production_method      genre  \\\n",
       "0                Original Screenplay  Animation/Live Action     Action   \n",
       "1  Based on Fiction Book/Short Story  Animation/Live Action  Adventure   \n",
       "2                        Based on TV  Animation/Live Action     Action   \n",
       "3                Original Screenplay      Digital Animation  Adventure   \n",
       "4           Based on Theme Park Ride            Live Action  Adventure   \n",
       "\n",
       "  language                                board_rating_reason  \\\n",
       "0  English  For intense epic battle sequences and warfare,...   \n",
       "1  English  for some sequences of intense action violence ...   \n",
       "2  English  for intense prolonged sequences of sci-fi acti...   \n",
       "3  English                                            General   \n",
       "4  English  for intense sequences of action/adventure viol...   \n",
       "\n",
       "  movie_board_rating_display_name movie_release_pattern_display_name  total  \\\n",
       "0                           PG-13                               Wide   2784   \n",
       "1                           PG-13                               Wide   1328   \n",
       "2                           PG-13                               Wide   1124   \n",
       "3                               G                               Wide   1064   \n",
       "4                           PG-13                               Wide   1044   \n",
       "\n",
       "   Category  \n",
       "0         9  \n",
       "1         9  \n",
       "2         9  \n",
       "3         9  \n",
       "4         9  "
      ]
     },
     "execution_count": 5,
     "metadata": {},
     "output_type": "execute_result"
    }
   ],
   "source": [
    "# \"ID\" here is uniquely identifying each row in our database. \n",
    "# Also, name and display_name is similar and have same meaning.\n",
    "# There is no significance of these values for our analysis as they are just an identifier for a row .\n",
    "# So we are dropping \"name\", \"display_name\" and \"id\" attribute.\n",
    "\n",
    "df = dataframe.drop(columns = ['id', 'name', 'display_name'])\n",
    "df.head()"
   ]
  },
  {
   "cell_type": "code",
   "execution_count": 6,
   "metadata": {},
   "outputs": [
    {
     "data": {
      "text/plain": [
       "(1196, 12)"
      ]
     },
     "execution_count": 6,
     "metadata": {},
     "output_type": "execute_result"
    }
   ],
   "source": [
    "#Shape of data set\n",
    "\n",
    "df.shape"
   ]
  },
  {
   "cell_type": "code",
   "execution_count": 7,
   "metadata": {
    "scrolled": true
   },
   "outputs": [
    {
     "name": "stdout",
     "output_type": "stream",
     "text": [
      "<class 'pandas.core.frame.DataFrame'>\n",
      "RangeIndex: 1196 entries, 0 to 1195\n",
      "Data columns (total 12 columns):\n",
      "production_year                       1196 non-null int64\n",
      "movie_sequel                          1196 non-null int64\n",
      "creative_type                         1196 non-null object\n",
      "source                                1196 non-null object\n",
      "production_method                     1196 non-null object\n",
      "genre                                 1196 non-null object\n",
      "language                              1196 non-null object\n",
      "board_rating_reason                   1196 non-null object\n",
      "movie_board_rating_display_name       1196 non-null object\n",
      "movie_release_pattern_display_name    1196 non-null object\n",
      "total                                 1196 non-null int64\n",
      "Category                              1196 non-null int64\n",
      "dtypes: int64(4), object(8)\n",
      "memory usage: 112.2+ KB\n"
     ]
    }
   ],
   "source": [
    "#information of data set\n",
    "\n",
    "df.info()"
   ]
  },
  {
   "cell_type": "markdown",
   "metadata": {},
   "source": [
    "The above set of information showcase following things:\n",
    "\n",
    "1. Column names are consistent.\n",
    "2. For each column , there are 1196 records, this shows that rows are consistent."
   ]
  },
  {
   "cell_type": "code",
   "execution_count": 8,
   "metadata": {},
   "outputs": [
    {
     "data": {
      "text/plain": [
       "production_year                       0\n",
       "movie_sequel                          0\n",
       "creative_type                         0\n",
       "source                                0\n",
       "production_method                     0\n",
       "genre                                 0\n",
       "language                              0\n",
       "board_rating_reason                   0\n",
       "movie_board_rating_display_name       0\n",
       "movie_release_pattern_display_name    0\n",
       "total                                 0\n",
       "Category                              0\n",
       "dtype: int64"
      ]
     },
     "execution_count": 8,
     "metadata": {},
     "output_type": "execute_result"
    }
   ],
   "source": [
    "##Finding inconsistent values\n",
    "\n",
    "df.isna().sum()\n"
   ]
  },
  {
   "cell_type": "code",
   "execution_count": 9,
   "metadata": {},
   "outputs": [
    {
     "data": {
      "text/plain": [
       "Text(0.5, 1.0, 'Null Values')"
      ]
     },
     "execution_count": 9,
     "metadata": {},
     "output_type": "execute_result"
    },
    {
     "data": {
      "image/png": "[encoded data removed]",
      "text/plain": [
       "<Figure size 864x720 with 2 Axes>"
      ]
     },
     "metadata": {
      "needs_background": "light"
     },
     "output_type": "display_data"
    }
   ],
   "source": [
    "#Graphical visualization of missing values\n",
    "\n",
    "plt.figure(figsize=(12,10))\n",
    "ax = plt.axes()\n",
    "\n",
    "sb.heatmap(df.isnull(),cmap = \"Blues\")\n",
    "\n",
    "ax.set_title(\"Null Values\")\n"
   ]
  },
  {
   "cell_type": "code",
   "execution_count": 10,
   "metadata": {},
   "outputs": [
    {
     "data": {
      "text/plain": [
       "1"
      ]
     },
     "execution_count": 10,
     "metadata": {},
     "output_type": "execute_result"
    }
   ],
   "source": [
    "#Finding Duplicate values\n",
    "\n",
    "df.duplicated().sum()"
   ]
  },
  {
   "cell_type": "markdown",
   "metadata": {},
   "source": [
    "#### Data Cleaning\n",
    "\n",
    "The above code showcase there is no missing or inconsistent values. There are 13 duplicate values. We need to delete this duplicate values.\n"
   ]
  },
  {
   "cell_type": "code",
   "execution_count": 11,
   "metadata": {
    "scrolled": true
   },
   "outputs": [
    {
     "data": {
      "text/html": [
       "<div>\n",
       "<style scoped>\n",
       "    .dataframe tbody tr th:only-of-type {\n",
       "        vertical-align: middle;\n",
       "    }\n",
       "\n",
       "    .dataframe tbody tr th {\n",
       "        vertical-align: top;\n",
       "    }\n",
       "\n",
       "    .dataframe thead th {\n",
       "        text-align: right;\n",
       "    }\n",
       "</style>\n",
       "<table border=\"1\" class=\"dataframe\">\n",
       "  <thead>\n",
       "    <tr style=\"text-align: right;\">\n",
       "      <th></th>\n",
       "      <th>production_year</th>\n",
       "      <th>movie_sequel</th>\n",
       "      <th>creative_type</th>\n",
       "      <th>source</th>\n",
       "      <th>production_method</th>\n",
       "      <th>genre</th>\n",
       "      <th>language</th>\n",
       "      <th>board_rating_reason</th>\n",
       "      <th>movie_board_rating_display_name</th>\n",
       "      <th>movie_release_pattern_display_name</th>\n",
       "      <th>total</th>\n",
       "      <th>Category</th>\n",
       "    </tr>\n",
       "  </thead>\n",
       "  <tbody>\n",
       "    <tr>\n",
       "      <th>0</th>\n",
       "      <td>2009</td>\n",
       "      <td>0</td>\n",
       "      <td>Science Fiction</td>\n",
       "      <td>Original Screenplay</td>\n",
       "      <td>Animation/Live Action</td>\n",
       "      <td>Action</td>\n",
       "      <td>English</td>\n",
       "      <td>For intense epic battle sequences and warfare,...</td>\n",
       "      <td>PG-13</td>\n",
       "      <td>Wide</td>\n",
       "      <td>2784</td>\n",
       "      <td>9</td>\n",
       "    </tr>\n",
       "    <tr>\n",
       "      <th>1</th>\n",
       "      <td>2011</td>\n",
       "      <td>1</td>\n",
       "      <td>Fantasy</td>\n",
       "      <td>Based on Fiction Book/Short Story</td>\n",
       "      <td>Animation/Live Action</td>\n",
       "      <td>Adventure</td>\n",
       "      <td>English</td>\n",
       "      <td>for some sequences of intense action violence ...</td>\n",
       "      <td>PG-13</td>\n",
       "      <td>Wide</td>\n",
       "      <td>1328</td>\n",
       "      <td>9</td>\n",
       "    </tr>\n",
       "    <tr>\n",
       "      <th>2</th>\n",
       "      <td>2011</td>\n",
       "      <td>1</td>\n",
       "      <td>Science Fiction</td>\n",
       "      <td>Based on TV</td>\n",
       "      <td>Animation/Live Action</td>\n",
       "      <td>Action</td>\n",
       "      <td>English</td>\n",
       "      <td>for intense prolonged sequences of sci-fi acti...</td>\n",
       "      <td>PG-13</td>\n",
       "      <td>Wide</td>\n",
       "      <td>1124</td>\n",
       "      <td>9</td>\n",
       "    </tr>\n",
       "    <tr>\n",
       "      <th>3</th>\n",
       "      <td>2010</td>\n",
       "      <td>1</td>\n",
       "      <td>Kids Fiction</td>\n",
       "      <td>Original Screenplay</td>\n",
       "      <td>Digital Animation</td>\n",
       "      <td>Adventure</td>\n",
       "      <td>English</td>\n",
       "      <td>General</td>\n",
       "      <td>G</td>\n",
       "      <td>Wide</td>\n",
       "      <td>1064</td>\n",
       "      <td>9</td>\n",
       "    </tr>\n",
       "    <tr>\n",
       "      <th>4</th>\n",
       "      <td>2011</td>\n",
       "      <td>1</td>\n",
       "      <td>Fantasy</td>\n",
       "      <td>Based on Theme Park Ride</td>\n",
       "      <td>Live Action</td>\n",
       "      <td>Adventure</td>\n",
       "      <td>English</td>\n",
       "      <td>for intense sequences of action/adventure viol...</td>\n",
       "      <td>PG-13</td>\n",
       "      <td>Wide</td>\n",
       "      <td>1044</td>\n",
       "      <td>9</td>\n",
       "    </tr>\n",
       "  </tbody>\n",
       "</table>\n",
       "</div>"
      ],
      "text/plain": [
       "   production_year  movie_sequel    creative_type  \\\n",
       "0             2009             0  Science Fiction   \n",
       "1             2011             1          Fantasy   \n",
       "2             2011             1  Science Fiction   \n",
       "3             2010             1     Kids Fiction   \n",
       "4             2011             1          Fantasy   \n",
       "\n",
       "                              source      production_method      genre  \\\n",
       "0                Original Screenplay  Animation/Live Action     Action   \n",
       "1  Based on Fiction Book/Short Story  Animation/Live Action  Adventure   \n",
       "2                        Based on TV  Animation/Live Action     Action   \n",
       "3                Original Screenplay      Digital Animation  Adventure   \n",
       "4           Based on Theme Park Ride            Live Action  Adventure   \n",
       "\n",
       "  language                                board_rating_reason  \\\n",
       "0  English  For intense epic battle sequences and warfare,...   \n",
       "1  English  for some sequences of intense action violence ...   \n",
       "2  English  for intense prolonged sequences of sci-fi acti...   \n",
       "3  English                                            General   \n",
       "4  English  for intense sequences of action/adventure viol...   \n",
       "\n",
       "  movie_board_rating_display_name movie_release_pattern_display_name  total  \\\n",
       "0                           PG-13                               Wide   2784   \n",
       "1                           PG-13                               Wide   1328   \n",
       "2                           PG-13                               Wide   1124   \n",
       "3                               G                               Wide   1064   \n",
       "4                           PG-13                               Wide   1044   \n",
       "\n",
       "   Category  \n",
       "0         9  \n",
       "1         9  \n",
       "2         9  \n",
       "3         9  \n",
       "4         9  "
      ]
     },
     "execution_count": 11,
     "metadata": {},
     "output_type": "execute_result"
    }
   ],
   "source": [
    "### Deleting duplicate values\n",
    "df.drop_duplicates()\n",
    "\n",
    "df.head()"
   ]
  },
  {
   "cell_type": "markdown",
   "metadata": {},
   "source": [
    "### Data Pre-Processing (Data Conversion)\n",
    "\n",
    "As we know that Machine Learning model can only handle numerical features, so LabelEncoder, an in-built algorithm is used to convert categorical features into numerical features.\n"
   ]
  },
  {
   "cell_type": "code",
   "execution_count": 12,
   "metadata": {},
   "outputs": [
    {
     "data": {
      "text/html": [
       "<div>\n",
       "<style scoped>\n",
       "    .dataframe tbody tr th:only-of-type {\n",
       "        vertical-align: middle;\n",
       "    }\n",
       "\n",
       "    .dataframe tbody tr th {\n",
       "        vertical-align: top;\n",
       "    }\n",
       "\n",
       "    .dataframe thead th {\n",
       "        text-align: right;\n",
       "    }\n",
       "</style>\n",
       "<table border=\"1\" class=\"dataframe\">\n",
       "  <thead>\n",
       "    <tr style=\"text-align: right;\">\n",
       "      <th></th>\n",
       "      <th>production_year</th>\n",
       "      <th>movie_sequel</th>\n",
       "      <th>creative_type</th>\n",
       "      <th>source</th>\n",
       "      <th>production_method</th>\n",
       "      <th>genre</th>\n",
       "      <th>language</th>\n",
       "      <th>board_rating_reason</th>\n",
       "      <th>movie_board_rating_display_name</th>\n",
       "      <th>movie_release_pattern_display_name</th>\n",
       "      <th>total</th>\n",
       "      <th>Category</th>\n",
       "    </tr>\n",
       "  </thead>\n",
       "  <tbody>\n",
       "    <tr>\n",
       "      <th>0</th>\n",
       "      <td>2009</td>\n",
       "      <td>0</td>\n",
       "      <td>7</td>\n",
       "      <td>13</td>\n",
       "      <td>0</td>\n",
       "      <td>0</td>\n",
       "      <td>2</td>\n",
       "      <td>For intense epic battle sequences and warfare,...</td>\n",
       "      <td>4</td>\n",
       "      <td>6</td>\n",
       "      <td>2784</td>\n",
       "      <td>9</td>\n",
       "    </tr>\n",
       "    <tr>\n",
       "      <th>1</th>\n",
       "      <td>2011</td>\n",
       "      <td>1</td>\n",
       "      <td>3</td>\n",
       "      <td>2</td>\n",
       "      <td>0</td>\n",
       "      <td>1</td>\n",
       "      <td>2</td>\n",
       "      <td>for some sequences of intense action violence ...</td>\n",
       "      <td>4</td>\n",
       "      <td>6</td>\n",
       "      <td>1328</td>\n",
       "      <td>9</td>\n",
       "    </tr>\n",
       "    <tr>\n",
       "      <th>2</th>\n",
       "      <td>2011</td>\n",
       "      <td>1</td>\n",
       "      <td>7</td>\n",
       "      <td>9</td>\n",
       "      <td>0</td>\n",
       "      <td>0</td>\n",
       "      <td>2</td>\n",
       "      <td>for intense prolonged sequences of sci-fi acti...</td>\n",
       "      <td>4</td>\n",
       "      <td>6</td>\n",
       "      <td>1124</td>\n",
       "      <td>9</td>\n",
       "    </tr>\n",
       "    <tr>\n",
       "      <th>3</th>\n",
       "      <td>2010</td>\n",
       "      <td>1</td>\n",
       "      <td>5</td>\n",
       "      <td>13</td>\n",
       "      <td>1</td>\n",
       "      <td>1</td>\n",
       "      <td>2</td>\n",
       "      <td>General</td>\n",
       "      <td>0</td>\n",
       "      <td>6</td>\n",
       "      <td>1064</td>\n",
       "      <td>9</td>\n",
       "    </tr>\n",
       "    <tr>\n",
       "      <th>4</th>\n",
       "      <td>2011</td>\n",
       "      <td>1</td>\n",
       "      <td>3</td>\n",
       "      <td>10</td>\n",
       "      <td>3</td>\n",
       "      <td>1</td>\n",
       "      <td>2</td>\n",
       "      <td>for intense sequences of action/adventure viol...</td>\n",
       "      <td>4</td>\n",
       "      <td>6</td>\n",
       "      <td>1044</td>\n",
       "      <td>9</td>\n",
       "    </tr>\n",
       "  </tbody>\n",
       "</table>\n",
       "</div>"
      ],
      "text/plain": [
       "   production_year  movie_sequel  creative_type  source  production_method  \\\n",
       "0             2009             0              7      13                  0   \n",
       "1             2011             1              3       2                  0   \n",
       "2             2011             1              7       9                  0   \n",
       "3             2010             1              5      13                  1   \n",
       "4             2011             1              3      10                  3   \n",
       "\n",
       "   genre  language                                board_rating_reason  \\\n",
       "0      0         2  For intense epic battle sequences and warfare,...   \n",
       "1      1         2  for some sequences of intense action violence ...   \n",
       "2      0         2  for intense prolonged sequences of sci-fi acti...   \n",
       "3      1         2                                            General   \n",
       "4      1         2  for intense sequences of action/adventure viol...   \n",
       "\n",
       "   movie_board_rating_display_name  movie_release_pattern_display_name  total  \\\n",
       "0                                4                                   6   2784   \n",
       "1                                4                                   6   1328   \n",
       "2                                4                                   6   1124   \n",
       "3                                0                                   6   1064   \n",
       "4                                4                                   6   1044   \n",
       "\n",
       "   Category  \n",
       "0         9  \n",
       "1         9  \n",
       "2         9  \n",
       "3         9  \n",
       "4         9  "
      ]
     },
     "execution_count": 12,
     "metadata": {},
     "output_type": "execute_result"
    }
   ],
   "source": [
    "# Converting Categorical feature into numerical feature by using LabelEncoder\n",
    "\n",
    "data_holly = df.copy()\n",
    "\n",
    "from sklearn.preprocessing import LabelEncoder\n",
    "\n",
    "lb_make = LabelEncoder()\n",
    "\n",
    "data_holly['creative_type'] = lb_make.fit_transform(data_holly['creative_type'])\n",
    "data_holly['source'] = lb_make.fit_transform(data_holly['source'])\n",
    "data_holly['production_method'] = lb_make.fit_transform(data_holly['production_method'])\n",
    "data_holly['genre'] = lb_make.fit_transform(data_holly['genre'])\n",
    "data_holly['language'] = lb_make.fit_transform(data_holly['language'])\n",
    "data_holly['movie_board_rating_display_name'] = lb_make.fit_transform(data_holly['movie_board_rating_display_name'])\n",
    "data_holly['movie_release_pattern_display_name'] = lb_make.fit_transform(data_holly['movie_release_pattern_display_name'])\n",
    "\n",
    "data_holly.head()"
   ]
  },
  {
   "cell_type": "markdown",
   "metadata": {},
   "source": [
    "#### Converting text field into categories of sentiments.\n",
    "\n",
    "board_rating_reason is a text field in which rating reason is given. This is a subjective field. By using Natural Language Processing, I am going to identify the sentiment of the text and rank from positive to negative rection. The order from positive to negative is classified from 1 to 5.\n",
    "\n",
    "1 -> Very positive \n",
    "2 -> positive\n",
    "3 -> neutral\n",
    "4 -> negative\n",
    "5 -> very negative\n",
    "\n",
    "After converting the rating reason to these numericalfeature, we will apply machine learning algorithms to see impact of this on target variable."
   ]
  },
  {
   "cell_type": "code",
   "execution_count": 13,
   "metadata": {},
   "outputs": [
    {
     "data": {
      "text/html": [
       "<div>\n",
       "<style scoped>\n",
       "    .dataframe tbody tr th:only-of-type {\n",
       "        vertical-align: middle;\n",
       "    }\n",
       "\n",
       "    .dataframe tbody tr th {\n",
       "        vertical-align: top;\n",
       "    }\n",
       "\n",
       "    .dataframe thead th {\n",
       "        text-align: right;\n",
       "    }\n",
       "</style>\n",
       "<table border=\"1\" class=\"dataframe\">\n",
       "  <thead>\n",
       "    <tr style=\"text-align: right;\">\n",
       "      <th></th>\n",
       "      <th>production_year</th>\n",
       "      <th>movie_sequel</th>\n",
       "      <th>creative_type</th>\n",
       "      <th>source</th>\n",
       "      <th>production_method</th>\n",
       "      <th>genre</th>\n",
       "      <th>language</th>\n",
       "      <th>board_rating_reason</th>\n",
       "      <th>movie_board_rating_display_name</th>\n",
       "      <th>movie_release_pattern_display_name</th>\n",
       "      <th>total</th>\n",
       "      <th>Category</th>\n",
       "    </tr>\n",
       "  </thead>\n",
       "  <tbody>\n",
       "    <tr>\n",
       "      <th>0</th>\n",
       "      <td>2009</td>\n",
       "      <td>0</td>\n",
       "      <td>7</td>\n",
       "      <td>13</td>\n",
       "      <td>0</td>\n",
       "      <td>0</td>\n",
       "      <td>2</td>\n",
       "      <td>3</td>\n",
       "      <td>4</td>\n",
       "      <td>6</td>\n",
       "      <td>2784</td>\n",
       "      <td>9</td>\n",
       "    </tr>\n",
       "    <tr>\n",
       "      <th>1</th>\n",
       "      <td>2011</td>\n",
       "      <td>1</td>\n",
       "      <td>3</td>\n",
       "      <td>2</td>\n",
       "      <td>0</td>\n",
       "      <td>1</td>\n",
       "      <td>2</td>\n",
       "      <td>4</td>\n",
       "      <td>4</td>\n",
       "      <td>6</td>\n",
       "      <td>1328</td>\n",
       "      <td>9</td>\n",
       "    </tr>\n",
       "    <tr>\n",
       "      <th>2</th>\n",
       "      <td>2011</td>\n",
       "      <td>1</td>\n",
       "      <td>7</td>\n",
       "      <td>9</td>\n",
       "      <td>0</td>\n",
       "      <td>0</td>\n",
       "      <td>2</td>\n",
       "      <td>3</td>\n",
       "      <td>4</td>\n",
       "      <td>6</td>\n",
       "      <td>1124</td>\n",
       "      <td>9</td>\n",
       "    </tr>\n",
       "    <tr>\n",
       "      <th>3</th>\n",
       "      <td>2010</td>\n",
       "      <td>1</td>\n",
       "      <td>5</td>\n",
       "      <td>13</td>\n",
       "      <td>1</td>\n",
       "      <td>1</td>\n",
       "      <td>2</td>\n",
       "      <td>3</td>\n",
       "      <td>0</td>\n",
       "      <td>6</td>\n",
       "      <td>1064</td>\n",
       "      <td>9</td>\n",
       "    </tr>\n",
       "    <tr>\n",
       "      <th>4</th>\n",
       "      <td>2011</td>\n",
       "      <td>1</td>\n",
       "      <td>3</td>\n",
       "      <td>10</td>\n",
       "      <td>3</td>\n",
       "      <td>1</td>\n",
       "      <td>2</td>\n",
       "      <td>4</td>\n",
       "      <td>4</td>\n",
       "      <td>6</td>\n",
       "      <td>1044</td>\n",
       "      <td>9</td>\n",
       "    </tr>\n",
       "  </tbody>\n",
       "</table>\n",
       "</div>"
      ],
      "text/plain": [
       "   production_year  movie_sequel  creative_type  source  production_method  \\\n",
       "0             2009             0              7      13                  0   \n",
       "1             2011             1              3       2                  0   \n",
       "2             2011             1              7       9                  0   \n",
       "3             2010             1              5      13                  1   \n",
       "4             2011             1              3      10                  3   \n",
       "\n",
       "   genre  language  board_rating_reason  movie_board_rating_display_name  \\\n",
       "0      0         2                    3                                4   \n",
       "1      1         2                    4                                4   \n",
       "2      0         2                    3                                4   \n",
       "3      1         2                    3                                0   \n",
       "4      1         2                    4                                4   \n",
       "\n",
       "   movie_release_pattern_display_name  total  Category  \n",
       "0                                   6   2784         9  \n",
       "1                                   6   1328         9  \n",
       "2                                   6   1124         9  \n",
       "3                                   6   1064         9  \n",
       "4                                   6   1044         9  "
      ]
     },
     "execution_count": 13,
     "metadata": {},
     "output_type": "execute_result"
    }
   ],
   "source": [
    "#Converting text feature into numerical feature\n",
    "from textblob import TextBlob\n",
    "\n",
    "reviews = data_holly.iloc[:,7]\n",
    "\n",
    "i=0;\n",
    "\n",
    "for review in reviews:\n",
    "    text = TextBlob(review)\n",
    "    polarity=text.sentiment.polarity\n",
    "    \n",
    "    #positive to negative reaction (classification goes from 1 to 5)\n",
    "    if polarity>0.5 and polarity<1.0:\n",
    "        data_holly.loc[i,'board_rating_reason'] = 1\n",
    "    elif polarity>0.2 and polarity<0.5:\n",
    "        data_holly.loc[i,'board_rating_reason'] = 2\n",
    "    elif polarity>0.0 and polarity<0.2:\n",
    "        data_holly.loc[i,'board_rating_reason'] = 3\n",
    "    elif polarity>-0.05 and polarity<-0.1:\n",
    "        data_holly.loc[i,'board_rating_reason'] = 5\n",
    "    else:\n",
    "        data_holly.loc[i,'board_rating_reason'] = 4\n",
    "    \n",
    "    i = i+1\n",
    "\n",
    "    \n",
    "data_holly.head()"
   ]
  },
  {
   "cell_type": "code",
   "execution_count": 14,
   "metadata": {
    "scrolled": true
   },
   "outputs": [
    {
     "data": {
      "text/html": [
       "<div>\n",
       "<style scoped>\n",
       "    .dataframe tbody tr th:only-of-type {\n",
       "        vertical-align: middle;\n",
       "    }\n",
       "\n",
       "    .dataframe tbody tr th {\n",
       "        vertical-align: top;\n",
       "    }\n",
       "\n",
       "    .dataframe thead th {\n",
       "        text-align: right;\n",
       "    }\n",
       "</style>\n",
       "<table border=\"1\" class=\"dataframe\">\n",
       "  <thead>\n",
       "    <tr style=\"text-align: right;\">\n",
       "      <th></th>\n",
       "      <th>production_year</th>\n",
       "      <th>movie_sequel</th>\n",
       "      <th>creative_type</th>\n",
       "      <th>source</th>\n",
       "      <th>production_method</th>\n",
       "      <th>genre</th>\n",
       "      <th>language</th>\n",
       "      <th>board_rating_reason</th>\n",
       "      <th>movie_board_rating_display_name</th>\n",
       "      <th>movie_release_pattern_display_name</th>\n",
       "      <th>total</th>\n",
       "      <th>Category</th>\n",
       "    </tr>\n",
       "  </thead>\n",
       "  <tbody>\n",
       "    <tr>\n",
       "      <th>count</th>\n",
       "      <td>1196.000000</td>\n",
       "      <td>1196.000000</td>\n",
       "      <td>1196.000000</td>\n",
       "      <td>1196.000000</td>\n",
       "      <td>1196.000000</td>\n",
       "      <td>1196.000000</td>\n",
       "      <td>1196.000000</td>\n",
       "      <td>1196.000000</td>\n",
       "      <td>1196.000000</td>\n",
       "      <td>1196.000000</td>\n",
       "      <td>1196.000000</td>\n",
       "      <td>1196.000000</td>\n",
       "    </tr>\n",
       "    <tr>\n",
       "      <th>mean</th>\n",
       "      <td>2008.984950</td>\n",
       "      <td>0.097826</td>\n",
       "      <td>1.764214</td>\n",
       "      <td>9.345318</td>\n",
       "      <td>2.826923</td>\n",
       "      <td>5.135452</td>\n",
       "      <td>2.229933</td>\n",
       "      <td>3.460702</td>\n",
       "      <td>3.945652</td>\n",
       "      <td>4.887124</td>\n",
       "      <td>104.703177</td>\n",
       "      <td>3.564381</td>\n",
       "    </tr>\n",
       "    <tr>\n",
       "      <th>std</th>\n",
       "      <td>1.383625</td>\n",
       "      <td>0.297204</td>\n",
       "      <td>2.359262</td>\n",
       "      <td>4.854570</td>\n",
       "      <td>0.665449</td>\n",
       "      <td>3.403672</td>\n",
       "      <td>1.339384</td>\n",
       "      <td>0.737037</td>\n",
       "      <td>1.160532</td>\n",
       "      <td>1.652629</td>\n",
       "      <td>181.927715</td>\n",
       "      <td>1.962417</td>\n",
       "    </tr>\n",
       "    <tr>\n",
       "      <th>min</th>\n",
       "      <td>2007.000000</td>\n",
       "      <td>0.000000</td>\n",
       "      <td>0.000000</td>\n",
       "      <td>0.000000</td>\n",
       "      <td>0.000000</td>\n",
       "      <td>0.000000</td>\n",
       "      <td>0.000000</td>\n",
       "      <td>2.000000</td>\n",
       "      <td>0.000000</td>\n",
       "      <td>0.000000</td>\n",
       "      <td>1.000000</td>\n",
       "      <td>1.000000</td>\n",
       "    </tr>\n",
       "    <tr>\n",
       "      <th>25%</th>\n",
       "      <td>2008.000000</td>\n",
       "      <td>0.000000</td>\n",
       "      <td>0.000000</td>\n",
       "      <td>5.750000</td>\n",
       "      <td>3.000000</td>\n",
       "      <td>3.000000</td>\n",
       "      <td>2.000000</td>\n",
       "      <td>3.000000</td>\n",
       "      <td>3.000000</td>\n",
       "      <td>3.000000</td>\n",
       "      <td>11.000000</td>\n",
       "      <td>2.000000</td>\n",
       "    </tr>\n",
       "    <tr>\n",
       "      <th>50%</th>\n",
       "      <td>2009.000000</td>\n",
       "      <td>0.000000</td>\n",
       "      <td>0.000000</td>\n",
       "      <td>13.000000</td>\n",
       "      <td>3.000000</td>\n",
       "      <td>6.000000</td>\n",
       "      <td>2.000000</td>\n",
       "      <td>4.000000</td>\n",
       "      <td>4.000000</td>\n",
       "      <td>6.000000</td>\n",
       "      <td>40.500000</td>\n",
       "      <td>3.000000</td>\n",
       "    </tr>\n",
       "    <tr>\n",
       "      <th>75%</th>\n",
       "      <td>2010.000000</td>\n",
       "      <td>0.000000</td>\n",
       "      <td>3.000000</td>\n",
       "      <td>13.000000</td>\n",
       "      <td>3.000000</td>\n",
       "      <td>7.000000</td>\n",
       "      <td>2.000000</td>\n",
       "      <td>4.000000</td>\n",
       "      <td>5.000000</td>\n",
       "      <td>6.000000</td>\n",
       "      <td>114.250000</td>\n",
       "      <td>5.000000</td>\n",
       "    </tr>\n",
       "    <tr>\n",
       "      <th>max</th>\n",
       "      <td>2011.000000</td>\n",
       "      <td>1.000000</td>\n",
       "      <td>8.000000</td>\n",
       "      <td>15.000000</td>\n",
       "      <td>5.000000</td>\n",
       "      <td>12.000000</td>\n",
       "      <td>15.000000</td>\n",
       "      <td>4.000000</td>\n",
       "      <td>5.000000</td>\n",
       "      <td>6.000000</td>\n",
       "      <td>2784.000000</td>\n",
       "      <td>9.000000</td>\n",
       "    </tr>\n",
       "  </tbody>\n",
       "</table>\n",
       "</div>"
      ],
      "text/plain": [
       "       production_year  movie_sequel  creative_type       source  \\\n",
       "count      1196.000000   1196.000000    1196.000000  1196.000000   \n",
       "mean       2008.984950      0.097826       1.764214     9.345318   \n",
       "std           1.383625      0.297204       2.359262     4.854570   \n",
       "min        2007.000000      0.000000       0.000000     0.000000   \n",
       "25%        2008.000000      0.000000       0.000000     5.750000   \n",
       "50%        2009.000000      0.000000       0.000000    13.000000   \n",
       "75%        2010.000000      0.000000       3.000000    13.000000   \n",
       "max        2011.000000      1.000000       8.000000    15.000000   \n",
       "\n",
       "       production_method        genre     language  board_rating_reason  \\\n",
       "count        1196.000000  1196.000000  1196.000000          1196.000000   \n",
       "mean            2.826923     5.135452     2.229933             3.460702   \n",
       "std             0.665449     3.403672     1.339384             0.737037   \n",
       "min             0.000000     0.000000     0.000000             2.000000   \n",
       "25%             3.000000     3.000000     2.000000             3.000000   \n",
       "50%             3.000000     6.000000     2.000000             4.000000   \n",
       "75%             3.000000     7.000000     2.000000             4.000000   \n",
       "max             5.000000    12.000000    15.000000             4.000000   \n",
       "\n",
       "       movie_board_rating_display_name  movie_release_pattern_display_name  \\\n",
       "count                      1196.000000                         1196.000000   \n",
       "mean                          3.945652                            4.887124   \n",
       "std                           1.160532                            1.652629   \n",
       "min                           0.000000                            0.000000   \n",
       "25%                           3.000000                            3.000000   \n",
       "50%                           4.000000                            6.000000   \n",
       "75%                           5.000000                            6.000000   \n",
       "max                           5.000000                            6.000000   \n",
       "\n",
       "             total     Category  \n",
       "count  1196.000000  1196.000000  \n",
       "mean    104.703177     3.564381  \n",
       "std     181.927715     1.962417  \n",
       "min       1.000000     1.000000  \n",
       "25%      11.000000     2.000000  \n",
       "50%      40.500000     3.000000  \n",
       "75%     114.250000     5.000000  \n",
       "max    2784.000000     9.000000  "
      ]
     },
     "execution_count": 14,
     "metadata": {},
     "output_type": "execute_result"
    }
   ],
   "source": [
    "# Finding out Summary Statistics of dataset to know more about features of dataset.\n",
    "\n",
    "data_holly.describe()"
   ]
  },
  {
   "cell_type": "markdown",
   "metadata": {},
   "source": [
    "### Distribution of Data"
   ]
  },
  {
   "cell_type": "code",
   "execution_count": 15,
   "metadata": {},
   "outputs": [
    {
     "data": {
      "text/plain": [
       "Text(0.5, 1.0, 'Distribution of Data')"
      ]
     },
     "execution_count": 15,
     "metadata": {},
     "output_type": "execute_result"
    },
    {
     "data": {
      "image/png": "[encoded data removed]",
      "text/plain": [
       "<Figure size 1080x1080 with 1 Axes>"
      ]
     },
     "metadata": {
      "needs_background": "light"
     },
     "output_type": "display_data"
    }
   ],
   "source": [
    "plt.figure(figsize=(15,15))\n",
    "\n",
    "sb.countplot(x='Category',data=data_holly)\n",
    "\n",
    "plt.title('Distribution of Data')"
   ]
  },
  {
   "cell_type": "markdown",
   "metadata": {},
   "source": [
    "The above graph showcases, the count of movies for each category in a dataset. We can see that data points for class 2,3,4 is  much more than 7, 8 , 9. This showcases that data points for class 7,8,9 are underrepresented and learning from such data is biased towards majority class. To proceed furthur with classification algorithm, we have to first deal with this imbalanced data.\n",
    "\n",
    "The imbalanced data is handeled by doing resampling (balancing the data). We will perform \"smote\" resampling to balance the dataset before we can apply Machine Learning Algorithms. "
   ]
  },
  {
   "cell_type": "markdown",
   "metadata": {},
   "source": [
    "### Balancing Imbalanced data"
   ]
  },
  {
   "cell_type": "code",
   "execution_count": 16,
   "metadata": {},
   "outputs": [
    {
     "data": {
      "text/html": [
       "<div>\n",
       "<style scoped>\n",
       "    .dataframe tbody tr th:only-of-type {\n",
       "        vertical-align: middle;\n",
       "    }\n",
       "\n",
       "    .dataframe tbody tr th {\n",
       "        vertical-align: top;\n",
       "    }\n",
       "\n",
       "    .dataframe thead th {\n",
       "        text-align: right;\n",
       "    }\n",
       "</style>\n",
       "<table border=\"1\" class=\"dataframe\">\n",
       "  <thead>\n",
       "    <tr style=\"text-align: right;\">\n",
       "      <th></th>\n",
       "      <th>production_year</th>\n",
       "      <th>movie_sequel</th>\n",
       "      <th>creative_type</th>\n",
       "      <th>source</th>\n",
       "      <th>production_method</th>\n",
       "      <th>genre</th>\n",
       "      <th>language</th>\n",
       "      <th>board_rating_reason</th>\n",
       "      <th>movie_board_rating_display_name</th>\n",
       "      <th>movie_release_pattern_display_name</th>\n",
       "      <th>total</th>\n",
       "    </tr>\n",
       "  </thead>\n",
       "  <tbody>\n",
       "    <tr>\n",
       "      <th>0</th>\n",
       "      <td>2009</td>\n",
       "      <td>0</td>\n",
       "      <td>7</td>\n",
       "      <td>13</td>\n",
       "      <td>0</td>\n",
       "      <td>0</td>\n",
       "      <td>2</td>\n",
       "      <td>3</td>\n",
       "      <td>4</td>\n",
       "      <td>6</td>\n",
       "      <td>2784</td>\n",
       "    </tr>\n",
       "    <tr>\n",
       "      <th>1</th>\n",
       "      <td>2011</td>\n",
       "      <td>1</td>\n",
       "      <td>3</td>\n",
       "      <td>2</td>\n",
       "      <td>0</td>\n",
       "      <td>1</td>\n",
       "      <td>2</td>\n",
       "      <td>4</td>\n",
       "      <td>4</td>\n",
       "      <td>6</td>\n",
       "      <td>1328</td>\n",
       "    </tr>\n",
       "    <tr>\n",
       "      <th>2</th>\n",
       "      <td>2011</td>\n",
       "      <td>1</td>\n",
       "      <td>7</td>\n",
       "      <td>9</td>\n",
       "      <td>0</td>\n",
       "      <td>0</td>\n",
       "      <td>2</td>\n",
       "      <td>3</td>\n",
       "      <td>4</td>\n",
       "      <td>6</td>\n",
       "      <td>1124</td>\n",
       "    </tr>\n",
       "    <tr>\n",
       "      <th>3</th>\n",
       "      <td>2010</td>\n",
       "      <td>1</td>\n",
       "      <td>5</td>\n",
       "      <td>13</td>\n",
       "      <td>1</td>\n",
       "      <td>1</td>\n",
       "      <td>2</td>\n",
       "      <td>3</td>\n",
       "      <td>0</td>\n",
       "      <td>6</td>\n",
       "      <td>1064</td>\n",
       "    </tr>\n",
       "    <tr>\n",
       "      <th>4</th>\n",
       "      <td>2011</td>\n",
       "      <td>1</td>\n",
       "      <td>3</td>\n",
       "      <td>10</td>\n",
       "      <td>3</td>\n",
       "      <td>1</td>\n",
       "      <td>2</td>\n",
       "      <td>4</td>\n",
       "      <td>4</td>\n",
       "      <td>6</td>\n",
       "      <td>1044</td>\n",
       "    </tr>\n",
       "  </tbody>\n",
       "</table>\n",
       "</div>"
      ],
      "text/plain": [
       "   production_year  movie_sequel  creative_type  source  production_method  \\\n",
       "0             2009             0              7      13                  0   \n",
       "1             2011             1              3       2                  0   \n",
       "2             2011             1              7       9                  0   \n",
       "3             2010             1              5      13                  1   \n",
       "4             2011             1              3      10                  3   \n",
       "\n",
       "   genre  language  board_rating_reason  movie_board_rating_display_name  \\\n",
       "0      0         2                    3                                4   \n",
       "1      1         2                    4                                4   \n",
       "2      0         2                    3                                4   \n",
       "3      1         2                    3                                0   \n",
       "4      1         2                    4                                4   \n",
       "\n",
       "   movie_release_pattern_display_name  total  \n",
       "0                                   6   2784  \n",
       "1                                   6   1328  \n",
       "2                                   6   1124  \n",
       "3                                   6   1064  \n",
       "4                                   6   1044  "
      ]
     },
     "execution_count": 16,
     "metadata": {},
     "output_type": "execute_result"
    }
   ],
   "source": [
    "# Predictor X: create from data with all the columns except the last column (category)\n",
    "\n",
    "X = data_holly.iloc[:,0:11]\n",
    "X.head()\n"
   ]
  },
  {
   "cell_type": "code",
   "execution_count": 17,
   "metadata": {},
   "outputs": [
    {
     "data": {
      "text/plain": [
       "0    9\n",
       "1    9\n",
       "2    9\n",
       "3    9\n",
       "4    9\n",
       "Name: Category, dtype: int64"
      ]
     },
     "execution_count": 17,
     "metadata": {},
     "output_type": "execute_result"
    }
   ],
   "source": [
    "# Target varable Y:create from data with last column\n",
    "\n",
    "y = data_holly.iloc[:,11]\n",
    "\n",
    "y.head()"
   ]
  },
  {
   "cell_type": "code",
   "execution_count": 18,
   "metadata": {},
   "outputs": [
    {
     "name": "stderr",
     "output_type": "stream",
     "text": [
      "Using TensorFlow backend.\n"
     ]
    }
   ],
   "source": [
    "#Handling Imbalance data\n",
    "from imblearn.over_sampling import SMOTE\n",
    "\n",
    "sm = SMOTE()\n",
    "\n",
    "X_smote,y_smote = sm.fit_resample(X,y)\n",
    "\n"
   ]
  },
  {
   "cell_type": "code",
   "execution_count": 19,
   "metadata": {},
   "outputs": [
    {
     "data": {
      "text/html": [
       "<div>\n",
       "<style scoped>\n",
       "    .dataframe tbody tr th:only-of-type {\n",
       "        vertical-align: middle;\n",
       "    }\n",
       "\n",
       "    .dataframe tbody tr th {\n",
       "        vertical-align: top;\n",
       "    }\n",
       "\n",
       "    .dataframe thead th {\n",
       "        text-align: right;\n",
       "    }\n",
       "</style>\n",
       "<table border=\"1\" class=\"dataframe\">\n",
       "  <thead>\n",
       "    <tr style=\"text-align: right;\">\n",
       "      <th></th>\n",
       "      <th>production_year</th>\n",
       "      <th>movie_sequel</th>\n",
       "      <th>creative_type</th>\n",
       "      <th>source</th>\n",
       "      <th>production_method</th>\n",
       "      <th>genre</th>\n",
       "      <th>language</th>\n",
       "      <th>board_rating_reason</th>\n",
       "      <th>movie_board_rating_display_name</th>\n",
       "      <th>movie_release_pattern_display_name</th>\n",
       "      <th>total</th>\n",
       "    </tr>\n",
       "  </thead>\n",
       "  <tbody>\n",
       "    <tr>\n",
       "      <th>0</th>\n",
       "      <td>2009</td>\n",
       "      <td>0</td>\n",
       "      <td>7</td>\n",
       "      <td>13</td>\n",
       "      <td>0</td>\n",
       "      <td>0</td>\n",
       "      <td>2</td>\n",
       "      <td>3</td>\n",
       "      <td>4</td>\n",
       "      <td>6</td>\n",
       "      <td>2784</td>\n",
       "    </tr>\n",
       "    <tr>\n",
       "      <th>1</th>\n",
       "      <td>2011</td>\n",
       "      <td>1</td>\n",
       "      <td>3</td>\n",
       "      <td>2</td>\n",
       "      <td>0</td>\n",
       "      <td>1</td>\n",
       "      <td>2</td>\n",
       "      <td>4</td>\n",
       "      <td>4</td>\n",
       "      <td>6</td>\n",
       "      <td>1328</td>\n",
       "    </tr>\n",
       "    <tr>\n",
       "      <th>2</th>\n",
       "      <td>2011</td>\n",
       "      <td>1</td>\n",
       "      <td>7</td>\n",
       "      <td>9</td>\n",
       "      <td>0</td>\n",
       "      <td>0</td>\n",
       "      <td>2</td>\n",
       "      <td>3</td>\n",
       "      <td>4</td>\n",
       "      <td>6</td>\n",
       "      <td>1124</td>\n",
       "    </tr>\n",
       "    <tr>\n",
       "      <th>3</th>\n",
       "      <td>2010</td>\n",
       "      <td>1</td>\n",
       "      <td>5</td>\n",
       "      <td>13</td>\n",
       "      <td>1</td>\n",
       "      <td>1</td>\n",
       "      <td>2</td>\n",
       "      <td>3</td>\n",
       "      <td>0</td>\n",
       "      <td>6</td>\n",
       "      <td>1064</td>\n",
       "    </tr>\n",
       "    <tr>\n",
       "      <th>4</th>\n",
       "      <td>2011</td>\n",
       "      <td>1</td>\n",
       "      <td>3</td>\n",
       "      <td>10</td>\n",
       "      <td>3</td>\n",
       "      <td>1</td>\n",
       "      <td>2</td>\n",
       "      <td>4</td>\n",
       "      <td>4</td>\n",
       "      <td>6</td>\n",
       "      <td>1044</td>\n",
       "    </tr>\n",
       "  </tbody>\n",
       "</table>\n",
       "</div>"
      ],
      "text/plain": [
       "   production_year  movie_sequel  creative_type  source  production_method  \\\n",
       "0             2009             0              7      13                  0   \n",
       "1             2011             1              3       2                  0   \n",
       "2             2011             1              7       9                  0   \n",
       "3             2010             1              5      13                  1   \n",
       "4             2011             1              3      10                  3   \n",
       "\n",
       "   genre  language  board_rating_reason  movie_board_rating_display_name  \\\n",
       "0      0         2                    3                                4   \n",
       "1      1         2                    4                                4   \n",
       "2      0         2                    3                                4   \n",
       "3      1         2                    3                                0   \n",
       "4      1         2                    4                                4   \n",
       "\n",
       "   movie_release_pattern_display_name  total  \n",
       "0                                   6   2784  \n",
       "1                                   6   1328  \n",
       "2                                   6   1124  \n",
       "3                                   6   1064  \n",
       "4                                   6   1044  "
      ]
     },
     "execution_count": 19,
     "metadata": {},
     "output_type": "execute_result"
    }
   ],
   "source": [
    "#Converting Dataframe\n",
    "\n",
    "X_data_frame_smote = pd.DataFrame(X_smote) \n",
    "\n",
    "#Renaming columns for dataframe\n",
    "\n",
    "X_df_smote = X_data_frame_smote.rename(columns={0:'production_year', 1:'movie_sequel',2:'creative_type',3:'source',4:'production_method',\n",
    "                                   5:'genre',6:'language',7:'board_rating_reason',8:'movie_board_rating_display_name',\n",
    "                                   9:'movie_release_pattern_display_name',10:'total'})\n",
    "\n",
    "X_df_smote.head()\n",
    "\n"
   ]
  },
  {
   "cell_type": "code",
   "execution_count": 20,
   "metadata": {},
   "outputs": [
    {
     "name": "stdout",
     "output_type": "stream",
     "text": [
      "      Category\n",
      "0            9\n",
      "1            9\n",
      "2            9\n",
      "3            9\n",
      "4            9\n",
      "5            9\n",
      "6            9\n",
      "7            9\n",
      "8            9\n",
      "9            9\n",
      "10           9\n",
      "11           9\n",
      "12           9\n",
      "13           9\n",
      "14           9\n",
      "15           9\n",
      "16           9\n",
      "17           9\n",
      "18           9\n",
      "19           8\n",
      "20           8\n",
      "21           8\n",
      "22           8\n",
      "23           8\n",
      "24           8\n",
      "25           8\n",
      "26           8\n",
      "27           8\n",
      "28           8\n",
      "29           8\n",
      "...        ...\n",
      "2193         9\n",
      "2194         9\n",
      "2195         9\n",
      "2196         9\n",
      "2197         9\n",
      "2198         9\n",
      "2199         9\n",
      "2200         9\n",
      "2201         9\n",
      "2202         9\n",
      "2203         9\n",
      "2204         9\n",
      "2205         9\n",
      "2206         9\n",
      "2207         9\n",
      "2208         9\n",
      "2209         9\n",
      "2210         9\n",
      "2211         9\n",
      "2212         9\n",
      "2213         9\n",
      "2214         9\n",
      "2215         9\n",
      "2216         9\n",
      "2217         9\n",
      "2218         9\n",
      "2219         9\n",
      "2220         9\n",
      "2221         9\n",
      "2222         9\n",
      "\n",
      "[2223 rows x 1 columns]\n"
     ]
    }
   ],
   "source": [
    "#Converting in Dataframe\n",
    "y_data_frame_smote = pd.DataFrame(y_smote)\n",
    "\n",
    "y_data_frame_smote.columns = [\"Category\"]\n",
    "\n",
    "print(y_data_frame_smote)\n"
   ]
  },
  {
   "cell_type": "code",
   "execution_count": 21,
   "metadata": {},
   "outputs": [
    {
     "data": {
      "text/plain": [
       "(2223, 1)"
      ]
     },
     "execution_count": 21,
     "metadata": {},
     "output_type": "execute_result"
    }
   ],
   "source": [
    "y_data_frame_smote.shape"
   ]
  },
  {
   "cell_type": "code",
   "execution_count": 22,
   "metadata": {},
   "outputs": [
    {
     "data": {
      "text/plain": [
       "Text(0.5, 1.0, 'Distribution of Data')"
      ]
     },
     "execution_count": 22,
     "metadata": {},
     "output_type": "execute_result"
    },
    {
     "data": {
      "image/png": "[encoded data removed]",
      "text/plain": [
       "<Figure size 1080x1080 with 1 Axes>"
      ]
     },
     "metadata": {
      "needs_background": "light"
     },
     "output_type": "display_data"
    }
   ],
   "source": [
    "plt.figure(figsize=(15,15))\n",
    "\n",
    "sb.countplot(x='Category',data=y_data_frame_smote)\n",
    "\n",
    "plt.title('Distribution of Data')"
   ]
  },
  {
   "cell_type": "code",
   "execution_count": 23,
   "metadata": {},
   "outputs": [
    {
     "data": {
      "text/html": [
       "<div>\n",
       "<style scoped>\n",
       "    .dataframe tbody tr th:only-of-type {\n",
       "        vertical-align: middle;\n",
       "    }\n",
       "\n",
       "    .dataframe tbody tr th {\n",
       "        vertical-align: top;\n",
       "    }\n",
       "\n",
       "    .dataframe thead th {\n",
       "        text-align: right;\n",
       "    }\n",
       "</style>\n",
       "<table border=\"1\" class=\"dataframe\">\n",
       "  <thead>\n",
       "    <tr style=\"text-align: right;\">\n",
       "      <th></th>\n",
       "      <th>production_year</th>\n",
       "      <th>movie_sequel</th>\n",
       "      <th>creative_type</th>\n",
       "      <th>source</th>\n",
       "      <th>production_method</th>\n",
       "      <th>genre</th>\n",
       "      <th>language</th>\n",
       "      <th>board_rating_reason</th>\n",
       "      <th>movie_board_rating_display_name</th>\n",
       "      <th>movie_release_pattern_display_name</th>\n",
       "    </tr>\n",
       "  </thead>\n",
       "  <tbody>\n",
       "    <tr>\n",
       "      <th>0</th>\n",
       "      <td>2009</td>\n",
       "      <td>0</td>\n",
       "      <td>7</td>\n",
       "      <td>13</td>\n",
       "      <td>0</td>\n",
       "      <td>0</td>\n",
       "      <td>2</td>\n",
       "      <td>3</td>\n",
       "      <td>4</td>\n",
       "      <td>6</td>\n",
       "    </tr>\n",
       "    <tr>\n",
       "      <th>1</th>\n",
       "      <td>2011</td>\n",
       "      <td>1</td>\n",
       "      <td>3</td>\n",
       "      <td>2</td>\n",
       "      <td>0</td>\n",
       "      <td>1</td>\n",
       "      <td>2</td>\n",
       "      <td>4</td>\n",
       "      <td>4</td>\n",
       "      <td>6</td>\n",
       "    </tr>\n",
       "    <tr>\n",
       "      <th>2</th>\n",
       "      <td>2011</td>\n",
       "      <td>1</td>\n",
       "      <td>7</td>\n",
       "      <td>9</td>\n",
       "      <td>0</td>\n",
       "      <td>0</td>\n",
       "      <td>2</td>\n",
       "      <td>3</td>\n",
       "      <td>4</td>\n",
       "      <td>6</td>\n",
       "    </tr>\n",
       "    <tr>\n",
       "      <th>3</th>\n",
       "      <td>2010</td>\n",
       "      <td>1</td>\n",
       "      <td>5</td>\n",
       "      <td>13</td>\n",
       "      <td>1</td>\n",
       "      <td>1</td>\n",
       "      <td>2</td>\n",
       "      <td>3</td>\n",
       "      <td>0</td>\n",
       "      <td>6</td>\n",
       "    </tr>\n",
       "    <tr>\n",
       "      <th>4</th>\n",
       "      <td>2011</td>\n",
       "      <td>1</td>\n",
       "      <td>3</td>\n",
       "      <td>10</td>\n",
       "      <td>3</td>\n",
       "      <td>1</td>\n",
       "      <td>2</td>\n",
       "      <td>4</td>\n",
       "      <td>4</td>\n",
       "      <td>6</td>\n",
       "    </tr>\n",
       "  </tbody>\n",
       "</table>\n",
       "</div>"
      ],
      "text/plain": [
       "   production_year  movie_sequel  creative_type  source  production_method  \\\n",
       "0             2009             0              7      13                  0   \n",
       "1             2011             1              3       2                  0   \n",
       "2             2011             1              7       9                  0   \n",
       "3             2010             1              5      13                  1   \n",
       "4             2011             1              3      10                  3   \n",
       "\n",
       "   genre  language  board_rating_reason  movie_board_rating_display_name  \\\n",
       "0      0         2                    3                                4   \n",
       "1      1         2                    4                                4   \n",
       "2      0         2                    3                                4   \n",
       "3      1         2                    3                                0   \n",
       "4      1         2                    4                                4   \n",
       "\n",
       "   movie_release_pattern_display_name  \n",
       "0                                   6  \n",
       "1                                   6  \n",
       "2                                   6  \n",
       "3                                   6  \n",
       "4                                   6  "
      ]
     },
     "execution_count": 23,
     "metadata": {},
     "output_type": "execute_result"
    }
   ],
   "source": [
    "### Since \"total\" field is not included in a scoring sheet which is an input to our predictive model, \n",
    "### so dropping total field \n",
    "\n",
    "X_data_frame_smote = X_df_smote.drop(columns = ['total'])\n",
    "data_holly = data_holly.drop(columns = ['total'])\n",
    "\n",
    "X_data_frame_smote.head()"
   ]
  },
  {
   "cell_type": "markdown",
   "metadata": {},
   "source": [
    "## Exploratory Data Analysis"
   ]
  },
  {
   "cell_type": "code",
   "execution_count": 24,
   "metadata": {
    "scrolled": true
   },
   "outputs": [
    {
     "data": {
      "image/png": "[encoded data removed]",
      "text/plain": [
       "<Figure size 1440x1440 with 2 Axes>"
      ]
     },
     "metadata": {
      "needs_background": "light"
     },
     "output_type": "display_data"
    }
   ],
   "source": [
    "#Correlation Heatmap displaying correlation between predictor variables and target variables.\n",
    "\n",
    "plt.figure(figsize=(20,20))\n",
    "corr = data_holly.corr()\n",
    "sb.heatmap(corr, annot = True, cmap='RdYlGn', vmin = -1, vmax = 1)\n",
    "plt.title(\"Correlation Heatmap\", fontsize=10)\n",
    "plt.show()   "
   ]
  },
  {
   "cell_type": "markdown",
   "metadata": {},
   "source": [
    "From above correlation heatmap we can see that, movie sequeal,creative type, and movie release patern display name is directly impacting the category and is highly correlated. "
   ]
  },
  {
   "cell_type": "code",
   "execution_count": 25,
   "metadata": {},
   "outputs": [
    {
     "data": {
      "text/plain": [
       "<matplotlib.axes._subplots.AxesSubplot at 0x168cf4ad048>"
      ]
     },
     "execution_count": 25,
     "metadata": {},
     "output_type": "execute_result"
    },
    {
     "data": {
      "image/png": "[encoded data removed]",
      "text/plain": [
       "<Figure size 1080x1080 with 1 Axes>"
      ]
     },
     "metadata": {
      "needs_background": "light"
     },
     "output_type": "display_data"
    }
   ],
   "source": [
    "plt.figure(figsize=(15,15))\n",
    "\n",
    "sb.countplot(x='Category',data=df, hue = 'creative_type')"
   ]
  },
  {
   "cell_type": "markdown",
   "metadata": {},
   "source": [
    "From above graph, we can conclude that contemporary fiction doesnot do well on box office."
   ]
  },
  {
   "cell_type": "code",
   "execution_count": 26,
   "metadata": {},
   "outputs": [
    {
     "data": {
      "text/plain": [
       "<matplotlib.axes._subplots.AxesSubplot at 0x168cf6d56d8>"
      ]
     },
     "execution_count": 26,
     "metadata": {},
     "output_type": "execute_result"
    },
    {
     "data": {
      "image/png": "[encoded data removed]",
      "text/plain": [
       "<Figure size 1080x1080 with 1 Axes>"
      ]
     },
     "metadata": {
      "needs_background": "light"
     },
     "output_type": "display_data"
    }
   ],
   "source": [
    "plt.figure(figsize=(15,15))\n",
    "\n",
    "sb.countplot(x='Category',data=df, hue = 'source')"
   ]
  },
  {
   "cell_type": "code",
   "execution_count": 27,
   "metadata": {},
   "outputs": [
    {
     "data": {
      "text/plain": [
       "<matplotlib.axes._subplots.AxesSubplot at 0x168cf8afc50>"
      ]
     },
     "execution_count": 27,
     "metadata": {},
     "output_type": "execute_result"
    },
    {
     "data": {
      "image/png": "[encoded data removed]",
      "text/plain": [
       "<Figure size 1080x1080 with 1 Axes>"
      ]
     },
     "metadata": {
      "needs_background": "light"
     },
     "output_type": "display_data"
    }
   ],
   "source": [
    "plt.figure(figsize=(15,15))\n",
    "\n",
    "sb.countplot(x='Category',data=df, hue = 'production_method')"
   ]
  },
  {
   "cell_type": "markdown",
   "metadata": {},
   "source": [
    "Animation/Live Action Movies does well in business."
   ]
  },
  {
   "cell_type": "code",
   "execution_count": 28,
   "metadata": {},
   "outputs": [
    {
     "data": {
      "text/plain": [
       "<matplotlib.axes._subplots.AxesSubplot at 0x168cf6b3a90>"
      ]
     },
     "execution_count": 28,
     "metadata": {},
     "output_type": "execute_result"
    },
    {
     "data": {
      "image/png": "[encoded data removed]",
      "text/plain": [
       "<Figure size 1080x1080 with 1 Axes>"
      ]
     },
     "metadata": {
      "needs_background": "light"
     },
     "output_type": "display_data"
    }
   ],
   "source": [
    "plt.figure(figsize=(15,15))\n",
    "\n",
    "sb.countplot(x='Category',data=df, hue = 'genre')"
   ]
  },
  {
   "cell_type": "markdown",
   "metadata": {},
   "source": [
    "From above visualizaton, we can say that adventure genre movies do well in business."
   ]
  },
  {
   "cell_type": "code",
   "execution_count": 29,
   "metadata": {},
   "outputs": [
    {
     "data": {
      "text/plain": [
       "<matplotlib.axes._subplots.AxesSubplot at 0x168cf8953c8>"
      ]
     },
     "execution_count": 29,
     "metadata": {},
     "output_type": "execute_result"
    },
    {
     "data": {
      "image/png": "[encoded data removed]",
      "text/plain": [
       "<Figure size 1080x1080 with 1 Axes>"
      ]
     },
     "metadata": {
      "needs_background": "light"
     },
     "output_type": "display_data"
    }
   ],
   "source": [
    "plt.figure(figsize=(15,15))\n",
    "\n",
    "sb.countplot(x='Category',data=df, hue = 'movie_board_rating_display_name')"
   ]
  },
  {
   "cell_type": "markdown",
   "metadata": {},
   "source": [
    "From above visualization, we can say that movie with \"R\" Category doesnot do well in business."
   ]
  },
  {
   "cell_type": "markdown",
   "metadata": {},
   "source": [
    "### Training and Testing Data"
   ]
  },
  {
   "cell_type": "markdown",
   "metadata": {},
   "source": [
    "After balancing the data,X_smote and y_smote is used to create training and testing data."
   ]
  },
  {
   "cell_type": "code",
   "execution_count": 30,
   "metadata": {},
   "outputs": [],
   "source": [
    "#Create Training and Testing data: X_train, X_test, y_train, y_test\n",
    "\n",
    "from sklearn.model_selection import train_test_split\n",
    "X_train, X_test, y_train, y_test = train_test_split(X_data_frame_smote, y_data_frame_smote, random_state=0)"
   ]
  },
  {
   "cell_type": "code",
   "execution_count": 31,
   "metadata": {},
   "outputs": [
    {
     "data": {
      "text/html": [
       "<div>\n",
       "<style scoped>\n",
       "    .dataframe tbody tr th:only-of-type {\n",
       "        vertical-align: middle;\n",
       "    }\n",
       "\n",
       "    .dataframe tbody tr th {\n",
       "        vertical-align: top;\n",
       "    }\n",
       "\n",
       "    .dataframe thead th {\n",
       "        text-align: right;\n",
       "    }\n",
       "</style>\n",
       "<table border=\"1\" class=\"dataframe\">\n",
       "  <thead>\n",
       "    <tr style=\"text-align: right;\">\n",
       "      <th></th>\n",
       "      <th>production_year</th>\n",
       "      <th>movie_sequel</th>\n",
       "      <th>creative_type</th>\n",
       "      <th>source</th>\n",
       "      <th>production_method</th>\n",
       "      <th>genre</th>\n",
       "      <th>language</th>\n",
       "      <th>board_rating_reason</th>\n",
       "      <th>movie_board_rating_display_name</th>\n",
       "      <th>movie_release_pattern_display_name</th>\n",
       "    </tr>\n",
       "  </thead>\n",
       "  <tbody>\n",
       "    <tr>\n",
       "      <th>1349</th>\n",
       "      <td>2007</td>\n",
       "      <td>1</td>\n",
       "      <td>7</td>\n",
       "      <td>13</td>\n",
       "      <td>3</td>\n",
       "      <td>0</td>\n",
       "      <td>2</td>\n",
       "      <td>3</td>\n",
       "      <td>5</td>\n",
       "      <td>6</td>\n",
       "    </tr>\n",
       "    <tr>\n",
       "      <th>717</th>\n",
       "      <td>2011</td>\n",
       "      <td>1</td>\n",
       "      <td>3</td>\n",
       "      <td>14</td>\n",
       "      <td>3</td>\n",
       "      <td>7</td>\n",
       "      <td>2</td>\n",
       "      <td>4</td>\n",
       "      <td>5</td>\n",
       "      <td>6</td>\n",
       "    </tr>\n",
       "    <tr>\n",
       "      <th>1510</th>\n",
       "      <td>2008</td>\n",
       "      <td>0</td>\n",
       "      <td>2</td>\n",
       "      <td>13</td>\n",
       "      <td>3</td>\n",
       "      <td>6</td>\n",
       "      <td>2</td>\n",
       "      <td>2</td>\n",
       "      <td>5</td>\n",
       "      <td>6</td>\n",
       "    </tr>\n",
       "    <tr>\n",
       "      <th>1073</th>\n",
       "      <td>2011</td>\n",
       "      <td>0</td>\n",
       "      <td>2</td>\n",
       "      <td>7</td>\n",
       "      <td>3</td>\n",
       "      <td>5</td>\n",
       "      <td>2</td>\n",
       "      <td>3</td>\n",
       "      <td>4</td>\n",
       "      <td>3</td>\n",
       "    </tr>\n",
       "    <tr>\n",
       "      <th>1106</th>\n",
       "      <td>2007</td>\n",
       "      <td>0</td>\n",
       "      <td>0</td>\n",
       "      <td>13</td>\n",
       "      <td>3</td>\n",
       "      <td>2</td>\n",
       "      <td>2</td>\n",
       "      <td>4</td>\n",
       "      <td>5</td>\n",
       "      <td>6</td>\n",
       "    </tr>\n",
       "  </tbody>\n",
       "</table>\n",
       "</div>"
      ],
      "text/plain": [
       "      production_year  movie_sequel  creative_type  source  production_method  \\\n",
       "1349             2007             1              7      13                  3   \n",
       "717              2011             1              3      14                  3   \n",
       "1510             2008             0              2      13                  3   \n",
       "1073             2011             0              2       7                  3   \n",
       "1106             2007             0              0      13                  3   \n",
       "\n",
       "      genre  language  board_rating_reason  movie_board_rating_display_name  \\\n",
       "1349      0         2                    3                                5   \n",
       "717       7         2                    4                                5   \n",
       "1510      6         2                    2                                5   \n",
       "1073      5         2                    3                                4   \n",
       "1106      2         2                    4                                5   \n",
       "\n",
       "      movie_release_pattern_display_name  \n",
       "1349                                   6  \n",
       "717                                    6  \n",
       "1510                                   6  \n",
       "1073                                   3  \n",
       "1106                                   6  "
      ]
     },
     "execution_count": 31,
     "metadata": {},
     "output_type": "execute_result"
    }
   ],
   "source": [
    "X_train.head()"
   ]
  },
  {
   "cell_type": "code",
   "execution_count": 32,
   "metadata": {},
   "outputs": [
    {
     "name": "stdout",
     "output_type": "stream",
     "text": [
      "X_train shape: (1667, 10)\n",
      "y_train shape: (1667, 1)\n",
      "X_test shape: (556, 10)\n",
      "y_test shape: (556, 1)\n"
     ]
    }
   ],
   "source": [
    "# print out the shape of X_train, y_train, \n",
    "\n",
    "print(\"X_train shape: {}\".format(X_train.shape))\n",
    "print(\"y_train shape: {}\".format(y_train.shape))\n",
    "\n",
    "# print out the shape of X_test, X_test, \n",
    "\n",
    "print(\"X_test shape: {}\".format(X_test.shape))\n",
    "print(\"y_test shape: {}\".format(y_test.shape))"
   ]
  },
  {
   "cell_type": "markdown",
   "metadata": {},
   "source": [
    "### Building Model"
   ]
  },
  {
   "cell_type": "markdown",
   "metadata": {},
   "source": [
    "Recall , Precision , and F1 Score are the best method for finding accuracy for multi-class classification problem with imbalanced data, as it gives accuracy for each category."
   ]
  },
  {
   "cell_type": "code",
   "execution_count": 33,
   "metadata": {},
   "outputs": [],
   "source": [
    "#Importing Libraries for Evaluation Metrics\n",
    "\n",
    "#Importing Accuracy Score\n",
    "from sklearn.metrics import accuracy_score\n",
    "\n",
    "#Importing Confusion Matrix\n",
    "from sklearn.metrics import confusion_matrix\n",
    "\n",
    "#Importing Recall Score\n",
    "from sklearn.metrics import recall_score\n",
    "\n",
    "#Importing Precision Score\n",
    "from sklearn.metrics import precision_score\n",
    "\n",
    "#Importing F1 Score\n",
    "from sklearn.metrics import f1_score\n",
    "\n",
    "#Importing cross_val_score\n",
    "\n"
   ]
  },
  {
   "cell_type": "code",
   "execution_count": 34,
   "metadata": {},
   "outputs": [
    {
     "data": {
      "text/plain": [
       "[]"
      ]
     },
     "execution_count": 34,
     "metadata": {},
     "output_type": "execute_result"
    }
   ],
   "source": [
    "#List of model predicted values\n",
    "Models = list()\n",
    "Models"
   ]
  },
  {
   "cell_type": "markdown",
   "metadata": {},
   "source": [
    "#### Decision Tree"
   ]
  },
  {
   "cell_type": "code",
   "execution_count": 35,
   "metadata": {},
   "outputs": [],
   "source": [
    "# Import decision tree\n",
    "from sklearn.tree import DecisionTreeClassifier\n",
    "\n",
    "# Build a decision tree model\n",
    "dtree = DecisionTreeClassifier()\n",
    "\n",
    "# Train the model\n",
    "dtree = dtree.fit(X_train, y_train)\n",
    "\n",
    "#Predicting ourtcome on dataset\n",
    "\n",
    "y_pred_dtree = dtree.predict(X_test)\n",
    "\n",
    "Models.append(y_pred_dtree)\n",
    "\n",
    "\n"
   ]
  },
  {
   "cell_type": "markdown",
   "metadata": {},
   "source": [
    "#### Evaluation Metrics for Decision Tree"
   ]
  },
  {
   "cell_type": "code",
   "execution_count": 36,
   "metadata": {},
   "outputs": [
    {
     "data": {
      "text/plain": [
       "0.4316546762589928"
      ]
     },
     "execution_count": 36,
     "metadata": {},
     "output_type": "execute_result"
    }
   ],
   "source": [
    "#Accuracy score\n",
    "accuracy_score(y_test,y_pred_dtree)\n"
   ]
  },
  {
   "cell_type": "code",
   "execution_count": 37,
   "metadata": {},
   "outputs": [
    {
     "name": "stdout",
     "output_type": "stream",
     "text": [
      "[[33 15  6  1  2  2  1  1  0]\n",
      " [14 14  8  7  5  2  0  2  0]\n",
      " [10 15  8 14  7  5  3  6  0]\n",
      " [ 8  6 17 12  8  5  6  1  0]\n",
      " [ 3 14  6  8 17  8  7  3  4]\n",
      " [ 2  4  2  6  7 28  8  4  1]\n",
      " [ 1  3  1  4  2  3 31  3  1]\n",
      " [ 1  1  2  0  3  3  8 44  4]\n",
      " [ 0  2  0  0  2  4  2  2 53]]\n"
     ]
    },
    {
     "data": {
      "image/png": "[encoded data removed]",
      "text/plain": [
       "<Figure size 432x288 with 1 Axes>"
      ]
     },
     "metadata": {
      "needs_background": "light"
     },
     "output_type": "display_data"
    }
   ],
   "source": [
    "#Confusion Matrix\n",
    "\n",
    "cm = confusion_matrix(y_test,y_pred_dtree)\n",
    "print(cm)\n",
    "\n",
    "fig = plt.figure()\n",
    "ax = fig.add_subplot(111)\n",
    "cax = ax.matshow(cm, cmap=plt.cm.Blues)\n",
    "plt.xlabel('Predicted')\n",
    "plt.ylabel('Expected')\n",
    "plt.show()"
   ]
  },
  {
   "cell_type": "code",
   "execution_count": 38,
   "metadata": {},
   "outputs": [
    {
     "data": {
      "text/plain": [
       "array([0.54098361, 0.26923077, 0.11764706, 0.19047619, 0.24285714,\n",
       "       0.4516129 , 0.63265306, 0.66666667, 0.81538462])"
      ]
     },
     "execution_count": 38,
     "metadata": {},
     "output_type": "execute_result"
    }
   ],
   "source": [
    "#Recall_score\n",
    "\n",
    "recall_score(y_test,y_pred_dtree, average = None)"
   ]
  },
  {
   "cell_type": "code",
   "execution_count": 39,
   "metadata": {},
   "outputs": [
    {
     "data": {
      "text/plain": [
       "array([0.45833333, 0.18918919, 0.16      , 0.23076923, 0.32075472,\n",
       "       0.46666667, 0.46969697, 0.66666667, 0.84126984])"
      ]
     },
     "execution_count": 39,
     "metadata": {},
     "output_type": "execute_result"
    }
   ],
   "source": [
    "#precision Score\n",
    "\n",
    "precision_score(y_test,y_pred_dtree, average = None)"
   ]
  },
  {
   "cell_type": "code",
   "execution_count": 40,
   "metadata": {},
   "outputs": [
    {
     "name": "stdout",
     "output_type": "stream",
     "text": [
      "0.4249074163867224\n"
     ]
    }
   ],
   "source": [
    "#F1 Score\n",
    "\n",
    "f1_score_dtree = f1_score(y_test,y_pred_dtree, average = 'weighted')\n",
    "print(f1_score_dtree)\n"
   ]
  },
  {
   "cell_type": "code",
   "execution_count": 41,
   "metadata": {},
   "outputs": [
    {
     "name": "stdout",
     "output_type": "stream",
     "text": [
      "Accuracy: 0.46 (+/- 0.09)\n"
     ]
    }
   ],
   "source": [
    "#cross_val_score\n",
    "\n",
    "from sklearn.model_selection import cross_val_score\n",
    "\n",
    "scores = cross_val_score(dtree,X_data_frame_smote,y_data_frame_smote, cv=5)\n",
    "score_mean_dtree = scores.mean()\n",
    "print(\"Accuracy: %0.2f (+/- %0.2f)\" % (scores.mean(), scores.std() * 2))"
   ]
  },
  {
   "cell_type": "code",
   "execution_count": 42,
   "metadata": {},
   "outputs": [
    {
     "name": "stderr",
     "output_type": "stream",
     "text": [
      "C:\\Users\\shree\\Anaconda3\\lib\\site-packages\\sklearn\\utils\\validation.py:724: DataConversionWarning: A column-vector y was passed when a 1d array was expected. Please change the shape of y to (n_samples, ), for example using ravel().\n",
      "  y = column_or_1d(y, warn=True)\n",
      "C:\\Users\\shree\\Anaconda3\\lib\\site-packages\\sklearn\\svm\\base.py:193: FutureWarning: The default value of gamma will change from 'auto' to 'scale' in version 0.22 to account better for unscaled features. Set gamma explicitly to 'auto' or 'scale' to avoid this warning.\n",
      "  \"avoid this warning.\", FutureWarning)\n"
     ]
    }
   ],
   "source": [
    "#Support Vector Machine\n",
    "from sklearn.svm import SVC\n",
    "\n",
    "# Build a decision tree model\n",
    "svm = SVC()\n",
    "\n",
    "# Train the model\n",
    "svm = svm.fit(X_train, y_train)\n",
    "\n",
    "#Predicting ourtcome on dataset\n",
    "\n",
    "y_pred_svm = dtree.predict(X_test)\n",
    "\n",
    "Models.append(y_pred_svm)\n",
    "\n",
    "\n",
    "\n"
   ]
  },
  {
   "cell_type": "markdown",
   "metadata": {},
   "source": [
    "#### Evaluation Metrics for support vector machine"
   ]
  },
  {
   "cell_type": "code",
   "execution_count": 43,
   "metadata": {},
   "outputs": [
    {
     "data": {
      "text/plain": [
       "0.4316546762589928"
      ]
     },
     "execution_count": 43,
     "metadata": {},
     "output_type": "execute_result"
    }
   ],
   "source": [
    "#Accuracy score\n",
    "accuracy_score(y_test,y_pred_svm)"
   ]
  },
  {
   "cell_type": "code",
   "execution_count": 44,
   "metadata": {},
   "outputs": [
    {
     "name": "stdout",
     "output_type": "stream",
     "text": [
      "[[33 15  6  1  2  2  1  1  0]\n",
      " [14 14  8  7  5  2  0  2  0]\n",
      " [10 15  8 14  7  5  3  6  0]\n",
      " [ 8  6 17 12  8  5  6  1  0]\n",
      " [ 3 14  6  8 17  8  7  3  4]\n",
      " [ 2  4  2  6  7 28  8  4  1]\n",
      " [ 1  3  1  4  2  3 31  3  1]\n",
      " [ 1  1  2  0  3  3  8 44  4]\n",
      " [ 0  2  0  0  2  4  2  2 53]]\n"
     ]
    },
    {
     "data": {
      "image/png": "[encoded data removed]",
      "text/plain": [
       "<Figure size 432x288 with 1 Axes>"
      ]
     },
     "metadata": {
      "needs_background": "light"
     },
     "output_type": "display_data"
    }
   ],
   "source": [
    "#Confusion Matrix\n",
    "\n",
    "cm = confusion_matrix(y_test,y_pred_svm)\n",
    "print(cm)\n",
    "\n",
    "fig = plt.figure()\n",
    "ax = fig.add_subplot(111)\n",
    "cax = ax.matshow(cm, cmap=plt.cm.Blues)\n",
    "plt.xlabel('Predicted')\n",
    "plt.ylabel('Expected')\n",
    "plt.show()"
   ]
  },
  {
   "cell_type": "code",
   "execution_count": 45,
   "metadata": {},
   "outputs": [
    {
     "data": {
      "text/plain": [
       "array([0.54098361, 0.26923077, 0.11764706, 0.19047619, 0.24285714,\n",
       "       0.4516129 , 0.63265306, 0.66666667, 0.81538462])"
      ]
     },
     "execution_count": 45,
     "metadata": {},
     "output_type": "execute_result"
    }
   ],
   "source": [
    "#Recall_score\n",
    "\n",
    "recall_score(y_test,y_pred_svm, average = None)"
   ]
  },
  {
   "cell_type": "code",
   "execution_count": 46,
   "metadata": {},
   "outputs": [
    {
     "data": {
      "text/plain": [
       "array([0.45833333, 0.18918919, 0.16      , 0.23076923, 0.32075472,\n",
       "       0.46666667, 0.46969697, 0.66666667, 0.84126984])"
      ]
     },
     "execution_count": 46,
     "metadata": {},
     "output_type": "execute_result"
    }
   ],
   "source": [
    "#precision Score\n",
    "\n",
    "precision_score(y_test,y_pred_svm, average = None)"
   ]
  },
  {
   "cell_type": "code",
   "execution_count": 47,
   "metadata": {},
   "outputs": [
    {
     "name": "stdout",
     "output_type": "stream",
     "text": [
      "0.4249074163867224\n"
     ]
    }
   ],
   "source": [
    "#F1 Score\n",
    "\n",
    "f1_score_svm = f1_score(y_test,y_pred_svm, average = 'weighted')\n",
    "print(f1_score_svm)"
   ]
  },
  {
   "cell_type": "code",
   "execution_count": 48,
   "metadata": {},
   "outputs": [
    {
     "name": "stderr",
     "output_type": "stream",
     "text": [
      "C:\\Users\\shree\\Anaconda3\\lib\\site-packages\\sklearn\\utils\\validation.py:724: DataConversionWarning: A column-vector y was passed when a 1d array was expected. Please change the shape of y to (n_samples, ), for example using ravel().\n",
      "  y = column_or_1d(y, warn=True)\n",
      "C:\\Users\\shree\\Anaconda3\\lib\\site-packages\\sklearn\\svm\\base.py:193: FutureWarning: The default value of gamma will change from 'auto' to 'scale' in version 0.22 to account better for unscaled features. Set gamma explicitly to 'auto' or 'scale' to avoid this warning.\n",
      "  \"avoid this warning.\", FutureWarning)\n",
      "C:\\Users\\shree\\Anaconda3\\lib\\site-packages\\sklearn\\utils\\validation.py:724: DataConversionWarning: A column-vector y was passed when a 1d array was expected. Please change the shape of y to (n_samples, ), for example using ravel().\n",
      "  y = column_or_1d(y, warn=True)\n",
      "C:\\Users\\shree\\Anaconda3\\lib\\site-packages\\sklearn\\svm\\base.py:193: FutureWarning: The default value of gamma will change from 'auto' to 'scale' in version 0.22 to account better for unscaled features. Set gamma explicitly to 'auto' or 'scale' to avoid this warning.\n",
      "  \"avoid this warning.\", FutureWarning)\n",
      "C:\\Users\\shree\\Anaconda3\\lib\\site-packages\\sklearn\\utils\\validation.py:724: DataConversionWarning: A column-vector y was passed when a 1d array was expected. Please change the shape of y to (n_samples, ), for example using ravel().\n",
      "  y = column_or_1d(y, warn=True)\n",
      "C:\\Users\\shree\\Anaconda3\\lib\\site-packages\\sklearn\\svm\\base.py:193: FutureWarning: The default value of gamma will change from 'auto' to 'scale' in version 0.22 to account better for unscaled features. Set gamma explicitly to 'auto' or 'scale' to avoid this warning.\n",
      "  \"avoid this warning.\", FutureWarning)\n",
      "C:\\Users\\shree\\Anaconda3\\lib\\site-packages\\sklearn\\utils\\validation.py:724: DataConversionWarning: A column-vector y was passed when a 1d array was expected. Please change the shape of y to (n_samples, ), for example using ravel().\n",
      "  y = column_or_1d(y, warn=True)\n",
      "C:\\Users\\shree\\Anaconda3\\lib\\site-packages\\sklearn\\svm\\base.py:193: FutureWarning: The default value of gamma will change from 'auto' to 'scale' in version 0.22 to account better for unscaled features. Set gamma explicitly to 'auto' or 'scale' to avoid this warning.\n",
      "  \"avoid this warning.\", FutureWarning)\n"
     ]
    },
    {
     "name": "stdout",
     "output_type": "stream",
     "text": [
      "Accuracy: 0.45 (+/- 0.07)\n"
     ]
    },
    {
     "name": "stderr",
     "output_type": "stream",
     "text": [
      "C:\\Users\\shree\\Anaconda3\\lib\\site-packages\\sklearn\\utils\\validation.py:724: DataConversionWarning: A column-vector y was passed when a 1d array was expected. Please change the shape of y to (n_samples, ), for example using ravel().\n",
      "  y = column_or_1d(y, warn=True)\n",
      "C:\\Users\\shree\\Anaconda3\\lib\\site-packages\\sklearn\\svm\\base.py:193: FutureWarning: The default value of gamma will change from 'auto' to 'scale' in version 0.22 to account better for unscaled features. Set gamma explicitly to 'auto' or 'scale' to avoid this warning.\n",
      "  \"avoid this warning.\", FutureWarning)\n"
     ]
    }
   ],
   "source": [
    "#cross_val_score\n",
    "\n",
    "from sklearn.model_selection import cross_val_score\n",
    "\n",
    "scores = cross_val_score(svm,X_data_frame_smote,y_data_frame_smote, cv=5)\n",
    "score_mean_svm = scores.mean()\n",
    "print(\"Accuracy: %0.2f (+/- %0.2f)\" % (scores.mean(), scores.std() * 2))"
   ]
  },
  {
   "cell_type": "code",
   "execution_count": 49,
   "metadata": {},
   "outputs": [
    {
     "name": "stdout",
     "output_type": "stream",
     "text": [
      "[5 7 3 1 6 1 9 7 8 1 7 4 1 3 6 5 1 3 6 2 4 7 7 8 3 4 6 3 8 8 2 1 1 5 2 6 1\n",
      " 9 8 7 1 8 7 3 9 5 6 9 8 5 3 3 6 7 5 2 7 1 1 1 3 4 4 2 2 1 3 2 4 2 8 7 2 5\n",
      " 9 2 2 3 9 8 4 1 3 1 9 9 6 1 5 3 2 1 6 4 1 8 1 5 6 7 6 3 2 9 4 7 9 2 5 8 3\n",
      " 9 1 2 6 2 9 3 6 3 6 3 9 2 2 6 3 7 6 4 7 8 2 1 8 5 2 5 4 1 1 3 2 4 2 1 1 8\n",
      " 6 9 7 8 8 4 3 5 8 8 1 1 6 1 2 5 6 9 9 9 5 6 9 1 2 9 3 7 7 1 1 4 5 7 2 8 9\n",
      " 9 4 5 2 8 2 7 6 6 5 7 2 1 5 1 1 2 7 1 5 8 3 7 1 9 8 8 8 5 4 6 4 9 8 5 3 4\n",
      " 6 9 1 6 6 9 1 3 3 5 2 2 2 9 2 9 2 4 1 1 1 8 1 2 3 7 6 4 4 5 8 6 1 7 1 3 7\n",
      " 5 7 2 8 6 1 8 9 6 1 8 7 1 7 4 2 7 9 5 1 2 9 2 9 2 3 6 4 9 5 9 5 9 7 5 8 9\n",
      " 4 9 4 7 1 5 7 4 2 5 8 4 2 9 8 8 4 4 7 1 1 1 8 5 9 8 3 5 8 2 8 8 9 7 3 6 1\n",
      " 7 9 2 1 1 3 4 4 2 4 5 9 7 5 2 2 7 6 1 4 1 7 8 6 5 2 7 9 7 6 5 9 2 2 9 5 4\n",
      " 1 1 7 5 7 8 8 6 9 9 7 1 3 6 4 1 5 4 1 8 7 3 7 9 6 9 2 5 8 8 3 6 6 5 4 1 7\n",
      " 2 8 2 6 9 1 9 4 3 5 7 2 5 7 9 5 2 6 3 9 6 5 2 1 3 4 1 5 9 4 1 2 5 6 7 9 9\n",
      " 9 9 9 7 1 1 9 4 5 8 9 1 9 5 8 7 4 5 2 5 3 4 9 1 1 9 7 5 8 4 4 1 1 3 6 3 3\n",
      " 6 2 1 8 9 4 8 2 4 7 5 2 9 2 8 3 2 5 5 8 5 8 1 8 1 1 1 5 1 1 8 4 6 9 2 5 7\n",
      " 1 4 5 4 1 9 6 1 6 5 2 9 1 6 9 7 9 1 6 1 8 4 4 9 4 7 7 8 2 1 1 8 1 6 8 6 1\n",
      " 2]\n"
     ]
    },
    {
     "name": "stderr",
     "output_type": "stream",
     "text": [
      "C:\\Users\\shree\\Anaconda3\\lib\\site-packages\\ipykernel_launcher.py:9: DataConversionWarning: A column-vector y was passed when a 1d array was expected. Please change the shape of y to (n_samples, ), for example using ravel().\n",
      "  if __name__ == '__main__':\n"
     ]
    }
   ],
   "source": [
    "#K Neighbor Classifier\n",
    "\n",
    "from sklearn.neighbors import KNeighborsClassifier\n",
    "\n",
    "#Build a KNeighborsClassifier\n",
    "kN=KNeighborsClassifier()\n",
    "\n",
    "#Train a Model\n",
    "kN.fit(X_train, y_train)\n",
    "\n",
    "#Predicting outcome on dataset\n",
    "y_pred_KN = kN.predict(X_test)\n",
    "\n",
    "Models.append(y_pred_KN)\n",
    "\n",
    "print(y_pred_KN)"
   ]
  },
  {
   "cell_type": "markdown",
   "metadata": {},
   "source": [
    "#### Evaluation Metrics for K Neighbor classifier"
   ]
  },
  {
   "cell_type": "code",
   "execution_count": 50,
   "metadata": {},
   "outputs": [
    {
     "data": {
      "text/plain": [
       "0.41906474820143885"
      ]
     },
     "execution_count": 50,
     "metadata": {},
     "output_type": "execute_result"
    }
   ],
   "source": [
    "#Accuracy score\n",
    "accuracy_score(y_test,y_pred_KN)"
   ]
  },
  {
   "cell_type": "code",
   "execution_count": 51,
   "metadata": {},
   "outputs": [
    {
     "name": "stdout",
     "output_type": "stream",
     "text": [
      "[[40 12  1  0  3  4  0  0  1]\n",
      " [19 12  6  6  4  3  1  0  1]\n",
      " [17 11  6 13  9  5  4  2  1]\n",
      " [10  9 15 12  8  3  3  2  1]\n",
      " [ 3 12  8  7 22  3  4  6  5]\n",
      " [ 1  5  1  9  7 26  6  4  3]\n",
      " [ 1  3  2  3  5  5 23  6  1]\n",
      " [ 0  2  4  3  1  3 13 37  3]\n",
      " [ 0  1  0  0  2  1  3  3 55]]\n"
     ]
    },
    {
     "data": {
      "image/png": "[encoded data removed]",
      "text/plain": [
       "<Figure size 432x288 with 1 Axes>"
      ]
     },
     "metadata": {
      "needs_background": "light"
     },
     "output_type": "display_data"
    }
   ],
   "source": [
    "#Confusion Matrix\n",
    "\n",
    "cm = confusion_matrix(y_test,y_pred_KN)\n",
    "print(cm)\n",
    "\n",
    "fig = plt.figure()\n",
    "ax = fig.add_subplot(111)\n",
    "cax = ax.matshow(cm, cmap=plt.cm.Blues)\n",
    "plt.xlabel('Predicted')\n",
    "plt.ylabel('Expected')\n",
    "plt.show()"
   ]
  },
  {
   "cell_type": "code",
   "execution_count": 52,
   "metadata": {},
   "outputs": [
    {
     "data": {
      "text/plain": [
       "array([0.6557377 , 0.23076923, 0.08823529, 0.19047619, 0.31428571,\n",
       "       0.41935484, 0.46938776, 0.56060606, 0.84615385])"
      ]
     },
     "execution_count": 52,
     "metadata": {},
     "output_type": "execute_result"
    }
   ],
   "source": [
    "#Recall_score\n",
    "\n",
    "recall_score(y_test,y_pred_KN, average = None)"
   ]
  },
  {
   "cell_type": "code",
   "execution_count": 53,
   "metadata": {},
   "outputs": [
    {
     "data": {
      "text/plain": [
       "array([0.43956044, 0.17910448, 0.13953488, 0.22641509, 0.36065574,\n",
       "       0.49056604, 0.40350877, 0.61666667, 0.77464789])"
      ]
     },
     "execution_count": 53,
     "metadata": {},
     "output_type": "execute_result"
    }
   ],
   "source": [
    "#precision Score\n",
    "\n",
    "precision_score(y_test,y_pred_KN, average = None)"
   ]
  },
  {
   "cell_type": "code",
   "execution_count": 54,
   "metadata": {},
   "outputs": [
    {
     "name": "stdout",
     "output_type": "stream",
     "text": [
      "0.40849696103109834\n"
     ]
    }
   ],
   "source": [
    "#F1 Score\n",
    "\n",
    "f1_score_KN = f1_score(y_test,y_pred_KN, average = 'weighted')\n",
    "print(f1_score_KN)"
   ]
  },
  {
   "cell_type": "code",
   "execution_count": 55,
   "metadata": {},
   "outputs": [
    {
     "name": "stdout",
     "output_type": "stream",
     "text": [
      "Accuracy: 0.43 (+/- 0.04)\n"
     ]
    },
    {
     "name": "stderr",
     "output_type": "stream",
     "text": [
      "C:\\Users\\shree\\Anaconda3\\lib\\site-packages\\sklearn\\model_selection\\_validation.py:516: DataConversionWarning: A column-vector y was passed when a 1d array was expected. Please change the shape of y to (n_samples, ), for example using ravel().\n",
      "  estimator.fit(X_train, y_train, **fit_params)\n",
      "C:\\Users\\shree\\Anaconda3\\lib\\site-packages\\sklearn\\model_selection\\_validation.py:516: DataConversionWarning: A column-vector y was passed when a 1d array was expected. Please change the shape of y to (n_samples, ), for example using ravel().\n",
      "  estimator.fit(X_train, y_train, **fit_params)\n",
      "C:\\Users\\shree\\Anaconda3\\lib\\site-packages\\sklearn\\model_selection\\_validation.py:516: DataConversionWarning: A column-vector y was passed when a 1d array was expected. Please change the shape of y to (n_samples, ), for example using ravel().\n",
      "  estimator.fit(X_train, y_train, **fit_params)\n",
      "C:\\Users\\shree\\Anaconda3\\lib\\site-packages\\sklearn\\model_selection\\_validation.py:516: DataConversionWarning: A column-vector y was passed when a 1d array was expected. Please change the shape of y to (n_samples, ), for example using ravel().\n",
      "  estimator.fit(X_train, y_train, **fit_params)\n",
      "C:\\Users\\shree\\Anaconda3\\lib\\site-packages\\sklearn\\model_selection\\_validation.py:516: DataConversionWarning: A column-vector y was passed when a 1d array was expected. Please change the shape of y to (n_samples, ), for example using ravel().\n",
      "  estimator.fit(X_train, y_train, **fit_params)\n"
     ]
    }
   ],
   "source": [
    "#cross_val_score\n",
    "\n",
    "from sklearn.model_selection import cross_val_score\n",
    "\n",
    "scores = cross_val_score(kN,X_data_frame_smote,y_data_frame_smote, cv=5)\n",
    "score_mean_kN=scores.mean()\n",
    "print(\"Accuracy: %0.2f (+/- %0.2f)\" % (scores.mean(), scores.std() * 2))"
   ]
  },
  {
   "cell_type": "markdown",
   "metadata": {},
   "source": [
    "#### Multi Layer Perceptron"
   ]
  },
  {
   "cell_type": "code",
   "execution_count": 56,
   "metadata": {},
   "outputs": [
    {
     "name": "stderr",
     "output_type": "stream",
     "text": [
      "C:\\Users\\shree\\Anaconda3\\lib\\site-packages\\sklearn\\neural_network\\multilayer_perceptron.py:921: DataConversionWarning: A column-vector y was passed when a 1d array was expected. Please change the shape of y to (n_samples, ), for example using ravel().\n",
      "  y = column_or_1d(y, warn=True)\n"
     ]
    }
   ],
   "source": [
    "##Importing Multi Layer Perceptron Classifier\n",
    "from sklearn.neural_network import MLPClassifier\n",
    "\n",
    "#Build a Multi Layer Perceptron Model\n",
    "mlp = MLPClassifier()\n",
    "\n",
    "#Train the Model\n",
    "mlp.fit(X_train,y_train)\n",
    "\n",
    "#Predicting Outcome on Dataset\n",
    "y_pred_mlp = mlp.predict(X_test)\n",
    "\n",
    "Models.append(y_pred_mlp)\n"
   ]
  },
  {
   "cell_type": "markdown",
   "metadata": {},
   "source": [
    "#### Evaluation Metrics for Multi Layer Perceptron"
   ]
  },
  {
   "cell_type": "code",
   "execution_count": 57,
   "metadata": {},
   "outputs": [
    {
     "data": {
      "text/plain": [
       "0.22302158273381295"
      ]
     },
     "execution_count": 57,
     "metadata": {},
     "output_type": "execute_result"
    }
   ],
   "source": [
    "#Accuracy score\n",
    "accuracy_score(y_test,y_pred_mlp)"
   ]
  },
  {
   "cell_type": "code",
   "execution_count": 58,
   "metadata": {},
   "outputs": [
    {
     "name": "stdout",
     "output_type": "stream",
     "text": [
      "[[ 0  5  0 34  4  1  0 10  7]\n",
      " [ 0  3  0 34  0  0  0 12  3]\n",
      " [ 0  3  0 37  4  0  0 16  8]\n",
      " [ 0  0  0 43  1  0  0  8 11]\n",
      " [ 0  1  0 38  2  0  0 10 19]\n",
      " [ 0  1  0 33  0  0  0 17 11]\n",
      " [ 0  0  0 10  1  0  0 17 21]\n",
      " [ 0  0  0  2  2  0  0 33 29]\n",
      " [ 0  0  0  0  5  0  0 17 43]]\n"
     ]
    },
    {
     "data": {
      "image/png": "[encoded data removed]",
      "text/plain": [
       "<Figure size 432x288 with 1 Axes>"
      ]
     },
     "metadata": {
      "needs_background": "light"
     },
     "output_type": "display_data"
    }
   ],
   "source": [
    "#Confusion Matrix\n",
    "\n",
    "cm = confusion_matrix(y_test,y_pred_mlp)\n",
    "print(cm)\n",
    "\n",
    "fig = plt.figure()\n",
    "ax = fig.add_subplot(111)\n",
    "cax = ax.matshow(cm, cmap=plt.cm.Blues)\n",
    "plt.xlabel('Predicted')\n",
    "plt.ylabel('Expected')\n",
    "plt.show()\n"
   ]
  },
  {
   "cell_type": "code",
   "execution_count": 59,
   "metadata": {},
   "outputs": [
    {
     "data": {
      "text/plain": [
       "array([0.        , 0.05769231, 0.        , 0.68253968, 0.02857143,\n",
       "       0.        , 0.        , 0.5       , 0.66153846])"
      ]
     },
     "execution_count": 59,
     "metadata": {},
     "output_type": "execute_result"
    }
   ],
   "source": [
    "#Recall_score\n",
    "\n",
    "recall_score(y_test,y_pred_mlp, average = None)"
   ]
  },
  {
   "cell_type": "code",
   "execution_count": 60,
   "metadata": {},
   "outputs": [
    {
     "name": "stderr",
     "output_type": "stream",
     "text": [
      "C:\\Users\\shree\\Anaconda3\\lib\\site-packages\\sklearn\\metrics\\classification.py:1437: UndefinedMetricWarning: Precision is ill-defined and being set to 0.0 in labels with no predicted samples.\n",
      "  'precision', 'predicted', average, warn_for)\n"
     ]
    },
    {
     "data": {
      "text/plain": [
       "array([0.        , 0.23076923, 0.        , 0.18614719, 0.10526316,\n",
       "       0.        , 0.        , 0.23571429, 0.28289474])"
      ]
     },
     "execution_count": 60,
     "metadata": {},
     "output_type": "execute_result"
    }
   ],
   "source": [
    "#precision Score\n",
    "\n",
    "precision_score(y_test,y_pred_mlp, average = None)"
   ]
  },
  {
   "cell_type": "code",
   "execution_count": 61,
   "metadata": {},
   "outputs": [
    {
     "name": "stdout",
     "output_type": "stream",
     "text": [
      "0.13179970966880827\n"
     ]
    },
    {
     "name": "stderr",
     "output_type": "stream",
     "text": [
      "C:\\Users\\shree\\Anaconda3\\lib\\site-packages\\sklearn\\metrics\\classification.py:1437: UndefinedMetricWarning: F-score is ill-defined and being set to 0.0 in labels with no predicted samples.\n",
      "  'precision', 'predicted', average, warn_for)\n"
     ]
    }
   ],
   "source": [
    "#f1 Score\n",
    "\n",
    "f1_score_mlp= f1_score(y_test,y_pred_mlp, average = 'weighted')\n",
    "\n",
    "print(f1_score_mlp)"
   ]
  },
  {
   "cell_type": "code",
   "execution_count": 62,
   "metadata": {},
   "outputs": [
    {
     "name": "stderr",
     "output_type": "stream",
     "text": [
      "C:\\Users\\shree\\Anaconda3\\lib\\site-packages\\sklearn\\neural_network\\multilayer_perceptron.py:921: DataConversionWarning: A column-vector y was passed when a 1d array was expected. Please change the shape of y to (n_samples, ), for example using ravel().\n",
      "  y = column_or_1d(y, warn=True)\n",
      "C:\\Users\\shree\\Anaconda3\\lib\\site-packages\\sklearn\\neural_network\\multilayer_perceptron.py:921: DataConversionWarning: A column-vector y was passed when a 1d array was expected. Please change the shape of y to (n_samples, ), for example using ravel().\n",
      "  y = column_or_1d(y, warn=True)\n",
      "C:\\Users\\shree\\Anaconda3\\lib\\site-packages\\sklearn\\neural_network\\multilayer_perceptron.py:921: DataConversionWarning: A column-vector y was passed when a 1d array was expected. Please change the shape of y to (n_samples, ), for example using ravel().\n",
      "  y = column_or_1d(y, warn=True)\n",
      "C:\\Users\\shree\\Anaconda3\\lib\\site-packages\\sklearn\\neural_network\\multilayer_perceptron.py:921: DataConversionWarning: A column-vector y was passed when a 1d array was expected. Please change the shape of y to (n_samples, ), for example using ravel().\n",
      "  y = column_or_1d(y, warn=True)\n"
     ]
    },
    {
     "name": "stdout",
     "output_type": "stream",
     "text": [
      "Accuracy: 0.17 (+/- 0.09)\n"
     ]
    },
    {
     "name": "stderr",
     "output_type": "stream",
     "text": [
      "C:\\Users\\shree\\Anaconda3\\lib\\site-packages\\sklearn\\neural_network\\multilayer_perceptron.py:921: DataConversionWarning: A column-vector y was passed when a 1d array was expected. Please change the shape of y to (n_samples, ), for example using ravel().\n",
      "  y = column_or_1d(y, warn=True)\n"
     ]
    }
   ],
   "source": [
    "#cross_val_score\n",
    "\n",
    "scores = cross_val_score(mlp,X_data_frame_smote,y_data_frame_smote, cv=5)\n",
    "score_mean_mlp = scores.mean()\n",
    "print(\"Accuracy: %0.2f (+/- %0.2f)\" % (scores.mean(), scores.std() * 2))\n",
    "\n",
    "\n"
   ]
  },
  {
   "cell_type": "code",
   "execution_count": 63,
   "metadata": {},
   "outputs": [
    {
     "name": "stdout",
     "output_type": "stream",
     "text": [
      "[array([5, 2, 3, 1, 6, 1, 9, 9, 9, 3, 7, 2, 2, 4, 6, 1, 1, 3, 3, 2, 6, 6,\n",
      "       8, 8, 6, 4, 1, 3, 8, 8, 1, 1, 2, 5, 2, 6, 1, 7, 8, 7, 1, 8, 5, 2,\n",
      "       9, 4, 4, 7, 8, 5, 6, 3, 3, 7, 5, 5, 7, 8, 1, 1, 3, 9, 4, 2, 7, 3,\n",
      "       3, 2, 3, 2, 8, 7, 5, 5, 9, 2, 2, 7, 9, 8, 6, 1, 4, 2, 9, 9, 6, 5,\n",
      "       5, 2, 4, 3, 7, 5, 1, 7, 1, 4, 2, 8, 6, 6, 2, 9, 4, 8, 9, 4, 9, 6,\n",
      "       2, 9, 3, 2, 8, 1, 9, 3, 6, 3, 6, 3, 5, 2, 4, 6, 8, 7, 6, 4, 8, 8,\n",
      "       2, 1, 8, 4, 7, 5, 6, 1, 2, 1, 8, 3, 2, 1, 1, 8, 6, 6, 9, 6, 8, 7,\n",
      "       7, 3, 8, 9, 1, 1, 5, 3, 7, 1, 6, 8, 6, 9, 5, 3, 6, 1, 2, 9, 6, 7,\n",
      "       7, 1, 1, 5, 5, 7, 7, 5, 9, 7, 4, 5, 2, 8, 2, 7, 6, 7, 6, 7, 2, 1,\n",
      "       3, 3, 1, 4, 7, 1, 5, 6, 5, 7, 2, 9, 8, 2, 9, 2, 5, 6, 4, 9, 9, 3,\n",
      "       3, 4, 6, 9, 1, 5, 6, 8, 1, 5, 3, 4, 1, 2, 3, 9, 2, 9, 4, 6, 1, 1,\n",
      "       2, 8, 7, 2, 1, 7, 6, 4, 4, 5, 7, 8, 2, 7, 3, 3, 7, 8, 5, 1, 8, 6,\n",
      "       3, 8, 9, 2, 2, 8, 7, 1, 8, 6, 8, 8, 3, 6, 4, 2, 9, 2, 4, 2, 1, 6,\n",
      "       8, 9, 5, 9, 6, 9, 6, 2, 8, 7, 3, 7, 2, 7, 4, 3, 8, 3, 3, 4, 8, 4,\n",
      "       2, 9, 8, 9, 4, 4, 8, 8, 1, 2, 8, 5, 9, 8, 1, 5, 8, 2, 7, 1, 7, 7,\n",
      "       3, 6, 4, 6, 6, 2, 3, 1, 2, 6, 6, 2, 7, 2, 9, 7, 7, 2, 7, 7, 6, 1,\n",
      "       2, 1, 7, 8, 6, 5, 1, 7, 9, 7, 7, 5, 9, 4, 2, 9, 6, 7, 1, 1, 7, 5,\n",
      "       6, 8, 9, 6, 8, 9, 8, 1, 3, 6, 4, 1, 2, 4, 1, 8, 7, 4, 7, 9, 3, 9,\n",
      "       4, 8, 8, 8, 3, 1, 7, 5, 6, 1, 7, 7, 1, 1, 6, 9, 1, 9, 5, 5, 5, 7,\n",
      "       7, 5, 5, 9, 5, 2, 6, 3, 9, 6, 5, 2, 1, 3, 4, 3, 4, 9, 4, 1, 1, 5,\n",
      "       6, 7, 1, 9, 9, 9, 9, 5, 1, 2, 9, 4, 5, 8, 7, 2, 9, 2, 8, 4, 3, 5,\n",
      "       1, 2, 4, 8, 9, 1, 1, 6, 7, 4, 8, 4, 4, 1, 2, 8, 8, 2, 4, 3, 2, 1,\n",
      "       5, 9, 4, 8, 7, 5, 8, 2, 3, 9, 2, 6, 3, 2, 5, 5, 9, 5, 8, 2, 4, 3,\n",
      "       1, 2, 5, 1, 1, 7, 2, 6, 9, 2, 4, 7, 1, 5, 5, 4, 2, 8, 5, 4, 6, 7,\n",
      "       2, 9, 1, 8, 9, 2, 9, 3, 6, 2, 8, 4, 4, 9, 4, 9, 7, 6, 7, 2, 1, 8,\n",
      "       1, 3, 8, 7, 3, 2], dtype=int64), array([5, 2, 3, 1, 6, 1, 9, 9, 9, 3, 7, 2, 2, 4, 6, 1, 1, 3, 3, 2, 6, 6,\n",
      "       8, 8, 6, 4, 1, 3, 8, 8, 1, 1, 2, 5, 2, 6, 1, 7, 8, 7, 1, 8, 5, 2,\n",
      "       9, 4, 4, 7, 8, 5, 6, 3, 3, 7, 5, 5, 7, 8, 1, 1, 3, 9, 4, 2, 7, 3,\n",
      "       3, 2, 3, 2, 8, 7, 5, 5, 9, 2, 2, 7, 9, 8, 6, 1, 4, 2, 9, 9, 6, 5,\n",
      "       5, 2, 4, 3, 7, 5, 1, 7, 1, 4, 2, 8, 6, 6, 2, 9, 4, 8, 9, 4, 9, 6,\n",
      "       2, 9, 3, 2, 8, 1, 9, 3, 6, 3, 6, 3, 5, 2, 4, 6, 8, 7, 6, 4, 8, 8,\n",
      "       2, 1, 8, 4, 7, 5, 6, 1, 2, 1, 8, 3, 2, 1, 1, 8, 6, 6, 9, 6, 8, 7,\n",
      "       7, 3, 8, 9, 1, 1, 5, 3, 7, 1, 6, 8, 6, 9, 5, 3, 6, 1, 2, 9, 6, 7,\n",
      "       7, 1, 1, 5, 5, 7, 7, 5, 9, 7, 4, 5, 2, 8, 2, 7, 6, 7, 6, 7, 2, 1,\n",
      "       3, 3, 1, 4, 7, 1, 5, 6, 5, 7, 2, 9, 8, 2, 9, 2, 5, 6, 4, 9, 9, 3,\n",
      "       3, 4, 6, 9, 1, 5, 6, 8, 1, 5, 3, 4, 1, 2, 3, 9, 2, 9, 4, 6, 1, 1,\n",
      "       2, 8, 7, 2, 1, 7, 6, 4, 4, 5, 7, 8, 2, 7, 3, 3, 7, 8, 5, 1, 8, 6,\n",
      "       3, 8, 9, 2, 2, 8, 7, 1, 8, 6, 8, 8, 3, 6, 4, 2, 9, 2, 4, 2, 1, 6,\n",
      "       8, 9, 5, 9, 6, 9, 6, 2, 8, 7, 3, 7, 2, 7, 4, 3, 8, 3, 3, 4, 8, 4,\n",
      "       2, 9, 8, 9, 4, 4, 8, 8, 1, 2, 8, 5, 9, 8, 1, 5, 8, 2, 7, 1, 7, 7,\n",
      "       3, 6, 4, 6, 6, 2, 3, 1, 2, 6, 6, 2, 7, 2, 9, 7, 7, 2, 7, 7, 6, 1,\n",
      "       2, 1, 7, 8, 6, 5, 1, 7, 9, 7, 7, 5, 9, 4, 2, 9, 6, 7, 1, 1, 7, 5,\n",
      "       6, 8, 9, 6, 8, 9, 8, 1, 3, 6, 4, 1, 2, 4, 1, 8, 7, 4, 7, 9, 3, 9,\n",
      "       4, 8, 8, 8, 3, 1, 7, 5, 6, 1, 7, 7, 1, 1, 6, 9, 1, 9, 5, 5, 5, 7,\n",
      "       7, 5, 5, 9, 5, 2, 6, 3, 9, 6, 5, 2, 1, 3, 4, 3, 4, 9, 4, 1, 1, 5,\n",
      "       6, 7, 1, 9, 9, 9, 9, 5, 1, 2, 9, 4, 5, 8, 7, 2, 9, 2, 8, 4, 3, 5,\n",
      "       1, 2, 4, 8, 9, 1, 1, 6, 7, 4, 8, 4, 4, 1, 2, 8, 8, 2, 4, 3, 2, 1,\n",
      "       5, 9, 4, 8, 7, 5, 8, 2, 3, 9, 2, 6, 3, 2, 5, 5, 9, 5, 8, 2, 4, 3,\n",
      "       1, 2, 5, 1, 1, 7, 2, 6, 9, 2, 4, 7, 1, 5, 5, 4, 2, 8, 5, 4, 6, 7,\n",
      "       2, 9, 1, 8, 9, 2, 9, 3, 6, 2, 8, 4, 4, 9, 4, 9, 7, 6, 7, 2, 1, 8,\n",
      "       1, 3, 8, 7, 3, 2], dtype=int64), array([5, 7, 3, 1, 6, 1, 9, 7, 8, 1, 7, 4, 1, 3, 6, 5, 1, 3, 6, 2, 4, 7,\n",
      "       7, 8, 3, 4, 6, 3, 8, 8, 2, 1, 1, 5, 2, 6, 1, 9, 8, 7, 1, 8, 7, 3,\n",
      "       9, 5, 6, 9, 8, 5, 3, 3, 6, 7, 5, 2, 7, 1, 1, 1, 3, 4, 4, 2, 2, 1,\n",
      "       3, 2, 4, 2, 8, 7, 2, 5, 9, 2, 2, 3, 9, 8, 4, 1, 3, 1, 9, 9, 6, 1,\n",
      "       5, 3, 2, 1, 6, 4, 1, 8, 1, 5, 6, 7, 6, 3, 2, 9, 4, 7, 9, 2, 5, 8,\n",
      "       3, 9, 1, 2, 6, 2, 9, 3, 6, 3, 6, 3, 9, 2, 2, 6, 3, 7, 6, 4, 7, 8,\n",
      "       2, 1, 8, 5, 2, 5, 4, 1, 1, 3, 2, 4, 2, 1, 1, 8, 6, 9, 7, 8, 8, 4,\n",
      "       3, 5, 8, 8, 1, 1, 6, 1, 2, 5, 6, 9, 9, 9, 5, 6, 9, 1, 2, 9, 3, 7,\n",
      "       7, 1, 1, 4, 5, 7, 2, 8, 9, 9, 4, 5, 2, 8, 2, 7, 6, 6, 5, 7, 2, 1,\n",
      "       5, 1, 1, 2, 7, 1, 5, 8, 3, 7, 1, 9, 8, 8, 8, 5, 4, 6, 4, 9, 8, 5,\n",
      "       3, 4, 6, 9, 1, 6, 6, 9, 1, 3, 3, 5, 2, 2, 2, 9, 2, 9, 2, 4, 1, 1,\n",
      "       1, 8, 1, 2, 3, 7, 6, 4, 4, 5, 8, 6, 1, 7, 1, 3, 7, 5, 7, 2, 8, 6,\n",
      "       1, 8, 9, 6, 1, 8, 7, 1, 7, 4, 2, 7, 9, 5, 1, 2, 9, 2, 9, 2, 3, 6,\n",
      "       4, 9, 5, 9, 5, 9, 7, 5, 8, 9, 4, 9, 4, 7, 1, 5, 7, 4, 2, 5, 8, 4,\n",
      "       2, 9, 8, 8, 4, 4, 7, 1, 1, 1, 8, 5, 9, 8, 3, 5, 8, 2, 8, 8, 9, 7,\n",
      "       3, 6, 1, 7, 9, 2, 1, 1, 3, 4, 4, 2, 4, 5, 9, 7, 5, 2, 2, 7, 6, 1,\n",
      "       4, 1, 7, 8, 6, 5, 2, 7, 9, 7, 6, 5, 9, 2, 2, 9, 5, 4, 1, 1, 7, 5,\n",
      "       7, 8, 8, 6, 9, 9, 7, 1, 3, 6, 4, 1, 5, 4, 1, 8, 7, 3, 7, 9, 6, 9,\n",
      "       2, 5, 8, 8, 3, 6, 6, 5, 4, 1, 7, 2, 8, 2, 6, 9, 1, 9, 4, 3, 5, 7,\n",
      "       2, 5, 7, 9, 5, 2, 6, 3, 9, 6, 5, 2, 1, 3, 4, 1, 5, 9, 4, 1, 2, 5,\n",
      "       6, 7, 9, 9, 9, 9, 9, 7, 1, 1, 9, 4, 5, 8, 9, 1, 9, 5, 8, 7, 4, 5,\n",
      "       2, 5, 3, 4, 9, 1, 1, 9, 7, 5, 8, 4, 4, 1, 1, 3, 6, 3, 3, 6, 2, 1,\n",
      "       8, 9, 4, 8, 2, 4, 7, 5, 2, 9, 2, 8, 3, 2, 5, 5, 8, 5, 8, 1, 8, 1,\n",
      "       1, 1, 5, 1, 1, 8, 4, 6, 9, 2, 5, 7, 1, 4, 5, 4, 1, 9, 6, 1, 6, 5,\n",
      "       2, 9, 1, 6, 9, 7, 9, 1, 6, 1, 8, 4, 4, 9, 4, 7, 7, 8, 2, 1, 1, 8,\n",
      "       1, 6, 8, 6, 1, 2], dtype=int64), array([9, 8, 4, 8, 9, 4, 9, 8, 8, 8, 8, 4, 8, 4, 8, 8, 4, 8, 4, 2, 4, 9,\n",
      "       9, 9, 4, 5, 5, 4, 8, 8, 4, 4, 4, 4, 4, 4, 2, 9, 8, 8, 9, 8, 8, 4,\n",
      "       9, 8, 4, 5, 8, 4, 4, 4, 8, 8, 4, 4, 8, 9, 4, 4, 4, 5, 4, 4, 5, 4,\n",
      "       4, 2, 9, 4, 9, 4, 4, 4, 9, 8, 4, 8, 9, 8, 8, 8, 9, 9, 9, 9, 4, 5,\n",
      "       8, 4, 8, 5, 9, 8, 8, 9, 8, 9, 5, 8, 4, 4, 4, 5, 4, 8, 9, 4, 5, 8,\n",
      "       8, 9, 4, 4, 8, 4, 9, 4, 4, 4, 4, 4, 8, 2, 4, 2, 4, 8, 4, 4, 9, 8,\n",
      "       4, 4, 8, 5, 8, 4, 9, 8, 4, 4, 8, 4, 4, 4, 4, 9, 4, 9, 9, 8, 9, 4,\n",
      "       4, 4, 9, 9, 4, 4, 4, 9, 9, 8, 4, 8, 8, 9, 4, 8, 8, 8, 8, 9, 9, 9,\n",
      "       9, 8, 4, 9, 4, 9, 4, 9, 5, 8, 4, 8, 4, 8, 4, 9, 4, 9, 4, 9, 4, 4,\n",
      "       4, 9, 8, 4, 8, 4, 9, 8, 8, 8, 8, 9, 9, 9, 9, 4, 4, 4, 4, 9, 9, 4,\n",
      "       9, 4, 8, 9, 8, 9, 4, 8, 4, 4, 4, 4, 4, 4, 4, 8, 4, 9, 2, 9, 4, 6,\n",
      "       5, 8, 2, 4, 5, 8, 4, 4, 4, 9, 8, 4, 4, 4, 4, 9, 9, 9, 9, 2, 8, 8,\n",
      "       9, 8, 9, 4, 4, 8, 8, 4, 8, 4, 5, 4, 9, 4, 4, 4, 9, 4, 9, 9, 9, 4,\n",
      "       9, 9, 9, 9, 9, 9, 9, 8, 8, 8, 4, 9, 4, 9, 9, 4, 8, 4, 4, 4, 8, 9,\n",
      "       4, 9, 8, 8, 4, 4, 8, 8, 4, 8, 9, 4, 8, 8, 4, 4, 9, 4, 9, 8, 8, 9,\n",
      "       4, 8, 4, 9, 9, 4, 4, 8, 4, 9, 4, 4, 4, 4, 9, 9, 9, 4, 9, 8, 4, 4,\n",
      "       4, 4, 4, 9, 4, 4, 8, 8, 8, 8, 4, 9, 8, 2, 2, 9, 9, 4, 8, 4, 9, 4,\n",
      "       9, 9, 9, 4, 8, 9, 8, 4, 8, 9, 4, 4, 9, 4, 4, 9, 8, 4, 9, 9, 4, 8,\n",
      "       4, 4, 8, 8, 4, 4, 9, 4, 8, 8, 8, 9, 4, 8, 4, 9, 4, 9, 4, 8, 4, 8,\n",
      "       9, 4, 4, 9, 4, 4, 4, 8, 5, 4, 9, 4, 2, 4, 4, 9, 5, 8, 4, 4, 4, 4,\n",
      "       8, 9, 9, 9, 8, 9, 8, 9, 4, 4, 9, 4, 4, 9, 9, 4, 9, 4, 8, 9, 4, 9,\n",
      "       2, 9, 4, 4, 8, 8, 4, 9, 9, 9, 9, 8, 4, 4, 4, 9, 5, 4, 4, 4, 4, 9,\n",
      "       9, 9, 4, 9, 9, 4, 9, 4, 5, 9, 8, 8, 4, 4, 4, 4, 9, 4, 8, 8, 9, 4,\n",
      "       8, 4, 4, 4, 4, 8, 2, 4, 9, 4, 4, 9, 4, 4, 8, 4, 8, 8, 8, 4, 4, 4,\n",
      "       4, 8, 4, 9, 8, 9, 8, 4, 8, 8, 9, 4, 4, 9, 4, 9, 8, 8, 8, 8, 8, 8,\n",
      "       9, 4, 9, 9, 9, 4], dtype=int64)]\n"
     ]
    }
   ],
   "source": [
    "print(Models)"
   ]
  },
  {
   "cell_type": "code",
   "execution_count": 64,
   "metadata": {},
   "outputs": [
    {
     "data": {
      "image/png": "[encoded data removed]",
      "text/plain": [
       "<Figure size 720x720 with 1 Axes>"
      ]
     },
     "metadata": {
      "needs_background": "light"
     },
     "output_type": "display_data"
    }
   ],
   "source": [
    "###Accuracy Score comparision of different Models (Visualization)\n",
    "\n",
    "x = [\"Decision Tree\",\"Support Vector Machine\",\"K Neighbor Classifier\",\"Multi Layer Perceptron\"]\n",
    "\n",
    "y = np.array([score_mean_dtree,score_mean_svm,score_mean_kN,score_mean_mlp])\n",
    "\n",
    "fig, ax = plt.subplots(figsize=(10,10))\n",
    "sb.barplot(x,y)\n",
    "plt.ylabel(\"Accuracy Score\")\n",
    "plt.xlabel(\"Classifier Models\")\n",
    "plt.title(\"Accuracy Score for different Models\")\n",
    "plt.show()"
   ]
  },
  {
   "cell_type": "code",
   "execution_count": 65,
   "metadata": {},
   "outputs": [
    {
     "name": "stdout",
     "output_type": "stream",
     "text": [
      "accuracy of Multi Layer Perceptron Models is 17.31%\n",
      "accuracy of Decision Tree Models is 46.23%\n",
      "accuracy of Support Vector Machine Models is 45.19%\n",
      "accuracy of K Neighbor Classifier Models is 43.47%\n",
      "\n",
      "Best Classifier Model is Decision Tree and the accuracy is 46.23%\n"
     ]
    }
   ],
   "source": [
    "#Accuracy of different model\n",
    "classifier = ['Decision Tree' , 'Support Vector Machine' ,'K Neighbor Classifier', 'Multi Layer Perceptron']\n",
    "score = np.array([score_mean_dtree,score_mean_svm,score_mean_kN,score_mean_mlp])\n",
    "a=0\n",
    "index=0\n",
    "\n",
    "for pred in range(len(Models)):\n",
    "    if a < score[pred-1]:\n",
    "        a = score[pred-1]\n",
    "        index=pred-1\n",
    "    print(\"accuracy of {} Models is {:.2f}%\".format(classifier[pred-1],score[pred-1]*100))\n",
    "    \n",
    "print(\"\\nBest Classifier Model is {} and the accuracy is {:.2f}%\".format(classifier[index],a*100))\n"
   ]
  },
  {
   "cell_type": "markdown",
   "metadata": {},
   "source": [
    "To improve accuracy of model, I have used bagging classifier.I have tuned the Bagging Classifier Model for more accuracy."
   ]
  },
  {
   "cell_type": "code",
   "execution_count": 66,
   "metadata": {},
   "outputs": [
    {
     "name": "stderr",
     "output_type": "stream",
     "text": [
      "C:\\Users\\shree\\Anaconda3\\lib\\site-packages\\sklearn\\ensemble\\bagging.py:623: DataConversionWarning: A column-vector y was passed when a 1d array was expected. Please change the shape of y to (n_samples, ), for example using ravel().\n",
      "  y = column_or_1d(y, warn=True)\n",
      "C:\\Users\\shree\\Anaconda3\\lib\\site-packages\\sklearn\\ensemble\\bagging.py:623: DataConversionWarning: A column-vector y was passed when a 1d array was expected. Please change the shape of y to (n_samples, ), for example using ravel().\n",
      "  y = column_or_1d(y, warn=True)\n",
      "C:\\Users\\shree\\Anaconda3\\lib\\site-packages\\sklearn\\ensemble\\bagging.py:623: DataConversionWarning: A column-vector y was passed when a 1d array was expected. Please change the shape of y to (n_samples, ), for example using ravel().\n",
      "  y = column_or_1d(y, warn=True)\n",
      "C:\\Users\\shree\\Anaconda3\\lib\\site-packages\\sklearn\\ensemble\\bagging.py:623: DataConversionWarning: A column-vector y was passed when a 1d array was expected. Please change the shape of y to (n_samples, ), for example using ravel().\n",
      "  y = column_or_1d(y, warn=True)\n",
      "C:\\Users\\shree\\Anaconda3\\lib\\site-packages\\sklearn\\ensemble\\bagging.py:623: DataConversionWarning: A column-vector y was passed when a 1d array was expected. Please change the shape of y to (n_samples, ), for example using ravel().\n",
      "  y = column_or_1d(y, warn=True)\n",
      "C:\\Users\\shree\\Anaconda3\\lib\\site-packages\\sklearn\\ensemble\\bagging.py:623: DataConversionWarning: A column-vector y was passed when a 1d array was expected. Please change the shape of y to (n_samples, ), for example using ravel().\n",
      "  y = column_or_1d(y, warn=True)\n",
      "C:\\Users\\shree\\Anaconda3\\lib\\site-packages\\sklearn\\ensemble\\bagging.py:623: DataConversionWarning: A column-vector y was passed when a 1d array was expected. Please change the shape of y to (n_samples, ), for example using ravel().\n",
      "  y = column_or_1d(y, warn=True)\n",
      "C:\\Users\\shree\\Anaconda3\\lib\\site-packages\\sklearn\\ensemble\\bagging.py:623: DataConversionWarning: A column-vector y was passed when a 1d array was expected. Please change the shape of y to (n_samples, ), for example using ravel().\n",
      "  y = column_or_1d(y, warn=True)\n"
     ]
    },
    {
     "name": "stdout",
     "output_type": "stream",
     "text": [
      "leaf size =  200\n",
      "Accuracy: 0.47 (+/- 0.08)\n",
      " \n",
      "leaf size =  500\n",
      "Accuracy: 0.48 (+/- 0.10)\n",
      " \n"
     ]
    },
    {
     "name": "stderr",
     "output_type": "stream",
     "text": [
      "C:\\Users\\shree\\Anaconda3\\lib\\site-packages\\sklearn\\ensemble\\bagging.py:623: DataConversionWarning: A column-vector y was passed when a 1d array was expected. Please change the shape of y to (n_samples, ), for example using ravel().\n",
      "  y = column_or_1d(y, warn=True)\n",
      "C:\\Users\\shree\\Anaconda3\\lib\\site-packages\\sklearn\\ensemble\\bagging.py:623: DataConversionWarning: A column-vector y was passed when a 1d array was expected. Please change the shape of y to (n_samples, ), for example using ravel().\n",
      "  y = column_or_1d(y, warn=True)\n",
      "C:\\Users\\shree\\Anaconda3\\lib\\site-packages\\sklearn\\ensemble\\bagging.py:623: DataConversionWarning: A column-vector y was passed when a 1d array was expected. Please change the shape of y to (n_samples, ), for example using ravel().\n",
      "  y = column_or_1d(y, warn=True)\n",
      "C:\\Users\\shree\\Anaconda3\\lib\\site-packages\\sklearn\\ensemble\\bagging.py:623: DataConversionWarning: A column-vector y was passed when a 1d array was expected. Please change the shape of y to (n_samples, ), for example using ravel().\n",
      "  y = column_or_1d(y, warn=True)\n",
      "C:\\Users\\shree\\Anaconda3\\lib\\site-packages\\sklearn\\ensemble\\bagging.py:623: DataConversionWarning: A column-vector y was passed when a 1d array was expected. Please change the shape of y to (n_samples, ), for example using ravel().\n",
      "  y = column_or_1d(y, warn=True)\n",
      "C:\\Users\\shree\\Anaconda3\\lib\\site-packages\\sklearn\\ensemble\\bagging.py:623: DataConversionWarning: A column-vector y was passed when a 1d array was expected. Please change the shape of y to (n_samples, ), for example using ravel().\n",
      "  y = column_or_1d(y, warn=True)\n",
      "C:\\Users\\shree\\Anaconda3\\lib\\site-packages\\sklearn\\ensemble\\bagging.py:623: DataConversionWarning: A column-vector y was passed when a 1d array was expected. Please change the shape of y to (n_samples, ), for example using ravel().\n",
      "  y = column_or_1d(y, warn=True)\n",
      "C:\\Users\\shree\\Anaconda3\\lib\\site-packages\\sklearn\\ensemble\\bagging.py:623: DataConversionWarning: A column-vector y was passed when a 1d array was expected. Please change the shape of y to (n_samples, ), for example using ravel().\n",
      "  y = column_or_1d(y, warn=True)\n",
      "C:\\Users\\shree\\Anaconda3\\lib\\site-packages\\sklearn\\ensemble\\bagging.py:623: DataConversionWarning: A column-vector y was passed when a 1d array was expected. Please change the shape of y to (n_samples, ), for example using ravel().\n",
      "  y = column_or_1d(y, warn=True)\n",
      "C:\\Users\\shree\\Anaconda3\\lib\\site-packages\\sklearn\\ensemble\\bagging.py:623: DataConversionWarning: A column-vector y was passed when a 1d array was expected. Please change the shape of y to (n_samples, ), for example using ravel().\n",
      "  y = column_or_1d(y, warn=True)\n"
     ]
    },
    {
     "name": "stdout",
     "output_type": "stream",
     "text": [
      "leaf size =  600\n",
      "Accuracy: 0.49 (+/- 0.11)\n",
      " \n",
      "leaf size =  800\n",
      "Accuracy: 0.47 (+/- 0.10)\n",
      " \n"
     ]
    },
    {
     "name": "stderr",
     "output_type": "stream",
     "text": [
      "C:\\Users\\shree\\Anaconda3\\lib\\site-packages\\sklearn\\ensemble\\bagging.py:623: DataConversionWarning: A column-vector y was passed when a 1d array was expected. Please change the shape of y to (n_samples, ), for example using ravel().\n",
      "  y = column_or_1d(y, warn=True)\n",
      "C:\\Users\\shree\\Anaconda3\\lib\\site-packages\\sklearn\\ensemble\\bagging.py:623: DataConversionWarning: A column-vector y was passed when a 1d array was expected. Please change the shape of y to (n_samples, ), for example using ravel().\n",
      "  y = column_or_1d(y, warn=True)\n",
      "C:\\Users\\shree\\Anaconda3\\lib\\site-packages\\sklearn\\ensemble\\bagging.py:623: DataConversionWarning: A column-vector y was passed when a 1d array was expected. Please change the shape of y to (n_samples, ), for example using ravel().\n",
      "  y = column_or_1d(y, warn=True)\n",
      "C:\\Users\\shree\\Anaconda3\\lib\\site-packages\\sklearn\\ensemble\\bagging.py:623: DataConversionWarning: A column-vector y was passed when a 1d array was expected. Please change the shape of y to (n_samples, ), for example using ravel().\n",
      "  y = column_or_1d(y, warn=True)\n",
      "C:\\Users\\shree\\Anaconda3\\lib\\site-packages\\sklearn\\ensemble\\bagging.py:623: DataConversionWarning: A column-vector y was passed when a 1d array was expected. Please change the shape of y to (n_samples, ), for example using ravel().\n",
      "  y = column_or_1d(y, warn=True)\n",
      "C:\\Users\\shree\\Anaconda3\\lib\\site-packages\\sklearn\\ensemble\\bagging.py:623: DataConversionWarning: A column-vector y was passed when a 1d array was expected. Please change the shape of y to (n_samples, ), for example using ravel().\n",
      "  y = column_or_1d(y, warn=True)\n",
      "C:\\Users\\shree\\Anaconda3\\lib\\site-packages\\sklearn\\ensemble\\bagging.py:623: DataConversionWarning: A column-vector y was passed when a 1d array was expected. Please change the shape of y to (n_samples, ), for example using ravel().\n",
      "  y = column_or_1d(y, warn=True)\n",
      "C:\\Users\\shree\\Anaconda3\\lib\\site-packages\\sklearn\\ensemble\\bagging.py:623: DataConversionWarning: A column-vector y was passed when a 1d array was expected. Please change the shape of y to (n_samples, ), for example using ravel().\n",
      "  y = column_or_1d(y, warn=True)\n",
      "C:\\Users\\shree\\Anaconda3\\lib\\site-packages\\sklearn\\ensemble\\bagging.py:623: DataConversionWarning: A column-vector y was passed when a 1d array was expected. Please change the shape of y to (n_samples, ), for example using ravel().\n",
      "  y = column_or_1d(y, warn=True)\n",
      "C:\\Users\\shree\\Anaconda3\\lib\\site-packages\\sklearn\\ensemble\\bagging.py:623: DataConversionWarning: A column-vector y was passed when a 1d array was expected. Please change the shape of y to (n_samples, ), for example using ravel().\n",
      "  y = column_or_1d(y, warn=True)\n"
     ]
    },
    {
     "name": "stdout",
     "output_type": "stream",
     "text": [
      "leaf size =  1000\n",
      "Accuracy: 0.47 (+/- 0.11)\n",
      " \n"
     ]
    },
    {
     "name": "stderr",
     "output_type": "stream",
     "text": [
      "C:\\Users\\shree\\Anaconda3\\lib\\site-packages\\sklearn\\ensemble\\bagging.py:623: DataConversionWarning: A column-vector y was passed when a 1d array was expected. Please change the shape of y to (n_samples, ), for example using ravel().\n",
      "  y = column_or_1d(y, warn=True)\n",
      "C:\\Users\\shree\\Anaconda3\\lib\\site-packages\\sklearn\\ensemble\\bagging.py:623: DataConversionWarning: A column-vector y was passed when a 1d array was expected. Please change the shape of y to (n_samples, ), for example using ravel().\n",
      "  y = column_or_1d(y, warn=True)\n"
     ]
    }
   ],
   "source": [
    "##Ensemble Learning to improve accuracy of model\n",
    "\n",
    "##Tuning Model\n",
    "\n",
    "from sklearn.ensemble import BaggingClassifier\n",
    "from sklearn import tree\n",
    "\n",
    "sample_leaf_options = [200,500,600,800,1000]\n",
    "\n",
    "for leaf_size in sample_leaf_options:\n",
    "    model = BaggingClassifier(tree.DecisionTreeClassifier(max_features=\"auto\", max_leaf_nodes= leaf_size, random_state=1))\n",
    "    model.fit(X_train, y_train)\n",
    "    y_pred_bagging=model.predict(X_test)\n",
    "    scores = cross_val_score(model,X_data_frame_smote,y_data_frame_smote, cv=5)\n",
    "    score_mean_bagging = scores.mean()\n",
    "    \n",
    "    print('leaf size = ',leaf_size)\n",
    "    print(\"Accuracy: %0.2f (+/- %0.2f)\" % (scores.mean(), scores.std() * 2))\n",
    "    print(\" \")\n",
    "\n",
    "\n",
    "\n"
   ]
  },
  {
   "cell_type": "markdown",
   "metadata": {},
   "source": [
    "##### By applying Machine Learning Algorithm, for classification of movie into different categories, it is seen that Decision Tree model is the best fitted model. By applying ensemble algorithm we were able to increase accuracy by 3%.  This is achieved by keeping leaf size 500 which is very high and will impact the performace for large dataset. So we are choosing decision model as our predictive model."
   ]
  },
  {
   "cell_type": "markdown",
   "metadata": {},
   "source": [
    "We have to apply this model for scoring sheet data. For scoring sheet data we have observed that we have all the data dimensions which are required for classification except total. Since total is an important parameter which is directly impacting classification, we cannot ignore this field. Total is highly correlated iwth category. So to solve this problem, we will build sub model (Linear regression model to find total parameter for scoring sheet)."
   ]
  },
  {
   "cell_type": "code",
   "execution_count": 67,
   "metadata": {},
   "outputs": [
    {
     "data": {
      "text/html": [
       "<div>\n",
       "<style scoped>\n",
       "    .dataframe tbody tr th:only-of-type {\n",
       "        vertical-align: middle;\n",
       "    }\n",
       "\n",
       "    .dataframe tbody tr th {\n",
       "        vertical-align: top;\n",
       "    }\n",
       "\n",
       "    .dataframe thead th {\n",
       "        text-align: right;\n",
       "    }\n",
       "</style>\n",
       "<table border=\"1\" class=\"dataframe\">\n",
       "  <thead>\n",
       "    <tr style=\"text-align: right;\">\n",
       "      <th></th>\n",
       "      <th>id</th>\n",
       "      <th>name</th>\n",
       "      <th>display_name</th>\n",
       "      <th>production_budget</th>\n",
       "      <th>production_year</th>\n",
       "      <th>movie_sequel</th>\n",
       "      <th>creative_type</th>\n",
       "      <th>source</th>\n",
       "      <th>production_method</th>\n",
       "      <th>genre</th>\n",
       "      <th>language</th>\n",
       "      <th>board_rating_reason</th>\n",
       "      <th>movie_board_rating_display_name</th>\n",
       "      <th>movie_release_pattern_display_name</th>\n",
       "    </tr>\n",
       "  </thead>\n",
       "  <tbody>\n",
       "    <tr>\n",
       "      <th>0</th>\n",
       "      <td>7970115</td>\n",
       "      <td>Avengers, The (2011)</td>\n",
       "      <td>Marvel's The Avengers</td>\n",
       "      <td>225000000</td>\n",
       "      <td>2012</td>\n",
       "      <td>0</td>\n",
       "      <td>Super Hero</td>\n",
       "      <td>Based on Comic/Graphic Novel</td>\n",
       "      <td>Live Action</td>\n",
       "      <td>Adventure</td>\n",
       "      <td>English</td>\n",
       "      <td>for intense sequences of sci-fi violence and a...</td>\n",
       "      <td>PG-13</td>\n",
       "      <td>Wide</td>\n",
       "    </tr>\n",
       "    <tr>\n",
       "      <th>1</th>\n",
       "      <td>174540115</td>\n",
       "      <td>Dark Knight Rises The</td>\n",
       "      <td>The Dark Knight Rises</td>\n",
       "      <td>0</td>\n",
       "      <td>2012</td>\n",
       "      <td>1</td>\n",
       "      <td>Super Hero</td>\n",
       "      <td>Based on Comic/Graphic Novel</td>\n",
       "      <td>Live Action</td>\n",
       "      <td>Action</td>\n",
       "      <td>English</td>\n",
       "      <td>for intense sequences of violence and action, ...</td>\n",
       "      <td>PG-13</td>\n",
       "      <td>Wide</td>\n",
       "    </tr>\n",
       "    <tr>\n",
       "      <th>2</th>\n",
       "      <td>149080115</td>\n",
       "      <td>Bond 23</td>\n",
       "      <td>Skyfall</td>\n",
       "      <td>200000000</td>\n",
       "      <td>2012</td>\n",
       "      <td>1</td>\n",
       "      <td>Contemporary Fiction</td>\n",
       "      <td>Based on Fiction Book/Short Story</td>\n",
       "      <td>Live Action</td>\n",
       "      <td>Action</td>\n",
       "      <td>English</td>\n",
       "      <td>for intense violent sequences throughout, some...</td>\n",
       "      <td>PG-13</td>\n",
       "      <td>Wide</td>\n",
       "    </tr>\n",
       "    <tr>\n",
       "      <th>3</th>\n",
       "      <td>136020115</td>\n",
       "      <td>Twilight Saga Breaking Dawn Part 2 The</td>\n",
       "      <td>The Twilight Saga: Breaking Dawn, Part 2</td>\n",
       "      <td>136200000</td>\n",
       "      <td>2012</td>\n",
       "      <td>1</td>\n",
       "      <td>Fantasy</td>\n",
       "      <td>Based on Fiction Book/Short Story</td>\n",
       "      <td>Live Action</td>\n",
       "      <td>Drama</td>\n",
       "      <td>English</td>\n",
       "      <td>for sequences of violence including disturbing...</td>\n",
       "      <td>PG-13</td>\n",
       "      <td>Wide</td>\n",
       "    </tr>\n",
       "    <tr>\n",
       "      <th>4</th>\n",
       "      <td>53500115</td>\n",
       "      <td>Hobbit, The</td>\n",
       "      <td>The Hobbit: An Unexpected Journey</td>\n",
       "      <td>270000000</td>\n",
       "      <td>2012</td>\n",
       "      <td>1</td>\n",
       "      <td>Fantasy</td>\n",
       "      <td>Based on Fiction Book/Short Story</td>\n",
       "      <td>Animation/Live Action</td>\n",
       "      <td>Adventure</td>\n",
       "      <td>English</td>\n",
       "      <td>for extended sequences of intense fantasy acti...</td>\n",
       "      <td>PG-13</td>\n",
       "      <td>Wide</td>\n",
       "    </tr>\n",
       "  </tbody>\n",
       "</table>\n",
       "</div>"
      ],
      "text/plain": [
       "          id                                    name  \\\n",
       "0    7970115                    Avengers, The (2011)   \n",
       "1  174540115                   Dark Knight Rises The   \n",
       "2  149080115                                 Bond 23   \n",
       "3  136020115  Twilight Saga Breaking Dawn Part 2 The   \n",
       "4   53500115                             Hobbit, The   \n",
       "\n",
       "                               display_name  production_budget  \\\n",
       "0                     Marvel's The Avengers          225000000   \n",
       "1                     The Dark Knight Rises                  0   \n",
       "2                                   Skyfall          200000000   \n",
       "3  The Twilight Saga: Breaking Dawn, Part 2          136200000   \n",
       "4         The Hobbit: An Unexpected Journey          270000000   \n",
       "\n",
       "   production_year  movie_sequel         creative_type  \\\n",
       "0             2012             0            Super Hero   \n",
       "1             2012             1            Super Hero   \n",
       "2             2012             1  Contemporary Fiction   \n",
       "3             2012             1               Fantasy   \n",
       "4             2012             1               Fantasy   \n",
       "\n",
       "                              source      production_method      genre  \\\n",
       "0       Based on Comic/Graphic Novel            Live Action  Adventure   \n",
       "1       Based on Comic/Graphic Novel            Live Action     Action   \n",
       "2  Based on Fiction Book/Short Story            Live Action     Action   \n",
       "3  Based on Fiction Book/Short Story            Live Action      Drama   \n",
       "4  Based on Fiction Book/Short Story  Animation/Live Action  Adventure   \n",
       "\n",
       "  language                                board_rating_reason  \\\n",
       "0  English  for intense sequences of sci-fi violence and a...   \n",
       "1  English  for intense sequences of violence and action, ...   \n",
       "2  English  for intense violent sequences throughout, some...   \n",
       "3  English  for sequences of violence including disturbing...   \n",
       "4  English  for extended sequences of intense fantasy acti...   \n",
       "\n",
       "  movie_board_rating_display_name movie_release_pattern_display_name  \n",
       "0                           PG-13                               Wide  \n",
       "1                           PG-13                               Wide  \n",
       "2                           PG-13                               Wide  \n",
       "3                           PG-13                               Wide  \n",
       "4                           PG-13                               Wide  "
      ]
     },
     "execution_count": 67,
     "metadata": {},
     "output_type": "execute_result"
    }
   ],
   "source": [
    "#Importing scoring sheet\n",
    "\n",
    "scoring_sheet = pd.read_csv('Scoring Sheet.csv')\n",
    "\n",
    "scoring_sheet.head()"
   ]
  },
  {
   "cell_type": "code",
   "execution_count": 68,
   "metadata": {},
   "outputs": [
    {
     "data": {
      "text/html": [
       "<div>\n",
       "<style scoped>\n",
       "    .dataframe tbody tr th:only-of-type {\n",
       "        vertical-align: middle;\n",
       "    }\n",
       "\n",
       "    .dataframe tbody tr th {\n",
       "        vertical-align: top;\n",
       "    }\n",
       "\n",
       "    .dataframe thead th {\n",
       "        text-align: right;\n",
       "    }\n",
       "</style>\n",
       "<table border=\"1\" class=\"dataframe\">\n",
       "  <thead>\n",
       "    <tr style=\"text-align: right;\">\n",
       "      <th></th>\n",
       "      <th>production_year</th>\n",
       "      <th>movie_sequel</th>\n",
       "      <th>creative_type</th>\n",
       "      <th>source</th>\n",
       "      <th>production_method</th>\n",
       "      <th>genre</th>\n",
       "      <th>language</th>\n",
       "      <th>board_rating_reason</th>\n",
       "      <th>movie_board_rating_display_name</th>\n",
       "      <th>movie_release_pattern_display_name</th>\n",
       "    </tr>\n",
       "  </thead>\n",
       "  <tbody>\n",
       "    <tr>\n",
       "      <th>0</th>\n",
       "      <td>2012</td>\n",
       "      <td>0</td>\n",
       "      <td>Super Hero</td>\n",
       "      <td>Based on Comic/Graphic Novel</td>\n",
       "      <td>Live Action</td>\n",
       "      <td>Adventure</td>\n",
       "      <td>English</td>\n",
       "      <td>for intense sequences of sci-fi violence and a...</td>\n",
       "      <td>PG-13</td>\n",
       "      <td>Wide</td>\n",
       "    </tr>\n",
       "    <tr>\n",
       "      <th>1</th>\n",
       "      <td>2012</td>\n",
       "      <td>1</td>\n",
       "      <td>Super Hero</td>\n",
       "      <td>Based on Comic/Graphic Novel</td>\n",
       "      <td>Live Action</td>\n",
       "      <td>Action</td>\n",
       "      <td>English</td>\n",
       "      <td>for intense sequences of violence and action, ...</td>\n",
       "      <td>PG-13</td>\n",
       "      <td>Wide</td>\n",
       "    </tr>\n",
       "    <tr>\n",
       "      <th>2</th>\n",
       "      <td>2012</td>\n",
       "      <td>1</td>\n",
       "      <td>Contemporary Fiction</td>\n",
       "      <td>Based on Fiction Book/Short Story</td>\n",
       "      <td>Live Action</td>\n",
       "      <td>Action</td>\n",
       "      <td>English</td>\n",
       "      <td>for intense violent sequences throughout, some...</td>\n",
       "      <td>PG-13</td>\n",
       "      <td>Wide</td>\n",
       "    </tr>\n",
       "    <tr>\n",
       "      <th>3</th>\n",
       "      <td>2012</td>\n",
       "      <td>1</td>\n",
       "      <td>Fantasy</td>\n",
       "      <td>Based on Fiction Book/Short Story</td>\n",
       "      <td>Live Action</td>\n",
       "      <td>Drama</td>\n",
       "      <td>English</td>\n",
       "      <td>for sequences of violence including disturbing...</td>\n",
       "      <td>PG-13</td>\n",
       "      <td>Wide</td>\n",
       "    </tr>\n",
       "    <tr>\n",
       "      <th>4</th>\n",
       "      <td>2012</td>\n",
       "      <td>1</td>\n",
       "      <td>Fantasy</td>\n",
       "      <td>Based on Fiction Book/Short Story</td>\n",
       "      <td>Animation/Live Action</td>\n",
       "      <td>Adventure</td>\n",
       "      <td>English</td>\n",
       "      <td>for extended sequences of intense fantasy acti...</td>\n",
       "      <td>PG-13</td>\n",
       "      <td>Wide</td>\n",
       "    </tr>\n",
       "  </tbody>\n",
       "</table>\n",
       "</div>"
      ],
      "text/plain": [
       "   production_year  movie_sequel         creative_type  \\\n",
       "0             2012             0            Super Hero   \n",
       "1             2012             1            Super Hero   \n",
       "2             2012             1  Contemporary Fiction   \n",
       "3             2012             1               Fantasy   \n",
       "4             2012             1               Fantasy   \n",
       "\n",
       "                              source      production_method      genre  \\\n",
       "0       Based on Comic/Graphic Novel            Live Action  Adventure   \n",
       "1       Based on Comic/Graphic Novel            Live Action     Action   \n",
       "2  Based on Fiction Book/Short Story            Live Action     Action   \n",
       "3  Based on Fiction Book/Short Story            Live Action      Drama   \n",
       "4  Based on Fiction Book/Short Story  Animation/Live Action  Adventure   \n",
       "\n",
       "  language                                board_rating_reason  \\\n",
       "0  English  for intense sequences of sci-fi violence and a...   \n",
       "1  English  for intense sequences of violence and action, ...   \n",
       "2  English  for intense violent sequences throughout, some...   \n",
       "3  English  for sequences of violence including disturbing...   \n",
       "4  English  for extended sequences of intense fantasy acti...   \n",
       "\n",
       "  movie_board_rating_display_name movie_release_pattern_display_name  \n",
       "0                           PG-13                               Wide  \n",
       "1                           PG-13                               Wide  \n",
       "2                           PG-13                               Wide  \n",
       "3                           PG-13                               Wide  \n",
       "4                           PG-13                               Wide  "
      ]
     },
     "execution_count": 68,
     "metadata": {},
     "output_type": "execute_result"
    }
   ],
   "source": [
    "X_scoring_test = scoring_sheet.drop(columns=['id','name','display_name','production_budget'])\n",
    "\n",
    "X_scoring_test.head()"
   ]
  },
  {
   "cell_type": "code",
   "execution_count": 69,
   "metadata": {},
   "outputs": [
    {
     "data": {
      "text/html": [
       "<div>\n",
       "<style scoped>\n",
       "    .dataframe tbody tr th:only-of-type {\n",
       "        vertical-align: middle;\n",
       "    }\n",
       "\n",
       "    .dataframe tbody tr th {\n",
       "        vertical-align: top;\n",
       "    }\n",
       "\n",
       "    .dataframe thead th {\n",
       "        text-align: right;\n",
       "    }\n",
       "</style>\n",
       "<table border=\"1\" class=\"dataframe\">\n",
       "  <thead>\n",
       "    <tr style=\"text-align: right;\">\n",
       "      <th></th>\n",
       "      <th>production_year</th>\n",
       "      <th>movie_sequel</th>\n",
       "      <th>creative_type</th>\n",
       "      <th>source</th>\n",
       "      <th>production_method</th>\n",
       "      <th>genre</th>\n",
       "      <th>language</th>\n",
       "      <th>board_rating_reason</th>\n",
       "      <th>movie_board_rating_display_name</th>\n",
       "      <th>movie_release_pattern_display_name</th>\n",
       "    </tr>\n",
       "  </thead>\n",
       "  <tbody>\n",
       "    <tr>\n",
       "      <th>0</th>\n",
       "      <td>2012</td>\n",
       "      <td>0</td>\n",
       "      <td>7</td>\n",
       "      <td>0</td>\n",
       "      <td>2</td>\n",
       "      <td>1</td>\n",
       "      <td>0</td>\n",
       "      <td>for intense sequences of sci-fi violence and a...</td>\n",
       "      <td>3</td>\n",
       "      <td>5</td>\n",
       "    </tr>\n",
       "    <tr>\n",
       "      <th>1</th>\n",
       "      <td>2012</td>\n",
       "      <td>1</td>\n",
       "      <td>7</td>\n",
       "      <td>0</td>\n",
       "      <td>2</td>\n",
       "      <td>0</td>\n",
       "      <td>0</td>\n",
       "      <td>for intense sequences of violence and action, ...</td>\n",
       "      <td>3</td>\n",
       "      <td>5</td>\n",
       "    </tr>\n",
       "    <tr>\n",
       "      <th>2</th>\n",
       "      <td>2012</td>\n",
       "      <td>1</td>\n",
       "      <td>0</td>\n",
       "      <td>2</td>\n",
       "      <td>2</td>\n",
       "      <td>0</td>\n",
       "      <td>0</td>\n",
       "      <td>for intense violent sequences throughout, some...</td>\n",
       "      <td>3</td>\n",
       "      <td>5</td>\n",
       "    </tr>\n",
       "    <tr>\n",
       "      <th>3</th>\n",
       "      <td>2012</td>\n",
       "      <td>1</td>\n",
       "      <td>3</td>\n",
       "      <td>2</td>\n",
       "      <td>2</td>\n",
       "      <td>5</td>\n",
       "      <td>0</td>\n",
       "      <td>for sequences of violence including disturbing...</td>\n",
       "      <td>3</td>\n",
       "      <td>5</td>\n",
       "    </tr>\n",
       "    <tr>\n",
       "      <th>4</th>\n",
       "      <td>2012</td>\n",
       "      <td>1</td>\n",
       "      <td>3</td>\n",
       "      <td>2</td>\n",
       "      <td>0</td>\n",
       "      <td>1</td>\n",
       "      <td>0</td>\n",
       "      <td>for extended sequences of intense fantasy acti...</td>\n",
       "      <td>3</td>\n",
       "      <td>5</td>\n",
       "    </tr>\n",
       "  </tbody>\n",
       "</table>\n",
       "</div>"
      ],
      "text/plain": [
       "   production_year  movie_sequel  creative_type  source  production_method  \\\n",
       "0             2012             0              7       0                  2   \n",
       "1             2012             1              7       0                  2   \n",
       "2             2012             1              0       2                  2   \n",
       "3             2012             1              3       2                  2   \n",
       "4             2012             1              3       2                  0   \n",
       "\n",
       "   genre  language                                board_rating_reason  \\\n",
       "0      1         0  for intense sequences of sci-fi violence and a...   \n",
       "1      0         0  for intense sequences of violence and action, ...   \n",
       "2      0         0  for intense violent sequences throughout, some...   \n",
       "3      5         0  for sequences of violence including disturbing...   \n",
       "4      1         0  for extended sequences of intense fantasy acti...   \n",
       "\n",
       "   movie_board_rating_display_name  movie_release_pattern_display_name  \n",
       "0                                3                                   5  \n",
       "1                                3                                   5  \n",
       "2                                3                                   5  \n",
       "3                                3                                   5  \n",
       "4                                3                                   5  "
      ]
     },
     "execution_count": 69,
     "metadata": {},
     "output_type": "execute_result"
    }
   ],
   "source": [
    "#Converting Categorical features into numerical features\n",
    "\n",
    "from sklearn.preprocessing import LabelEncoder\n",
    "\n",
    "lb_make = LabelEncoder()\n",
    "\n",
    "X_scoring_test['creative_type'] = lb_make.fit_transform(X_scoring_test['creative_type'])\n",
    "X_scoring_test['source'] = lb_make.fit_transform(X_scoring_test['source'])\n",
    "X_scoring_test['production_method'] = lb_make.fit_transform(X_scoring_test['production_method'])\n",
    "X_scoring_test['genre'] = lb_make.fit_transform(X_scoring_test['genre'])\n",
    "X_scoring_test['language'] = lb_make.fit_transform(X_scoring_test['language'])\n",
    "X_scoring_test['movie_board_rating_display_name'] = lb_make.fit_transform(X_scoring_test['movie_board_rating_display_name'])\n",
    "X_scoring_test['movie_release_pattern_display_name'] = lb_make.fit_transform(X_scoring_test['movie_release_pattern_display_name'])\n",
    "\n",
    "X_scoring_test.head()"
   ]
  },
  {
   "cell_type": "code",
   "execution_count": 70,
   "metadata": {},
   "outputs": [
    {
     "data": {
      "text/html": [
       "<div>\n",
       "<style scoped>\n",
       "    .dataframe tbody tr th:only-of-type {\n",
       "        vertical-align: middle;\n",
       "    }\n",
       "\n",
       "    .dataframe tbody tr th {\n",
       "        vertical-align: top;\n",
       "    }\n",
       "\n",
       "    .dataframe thead th {\n",
       "        text-align: right;\n",
       "    }\n",
       "</style>\n",
       "<table border=\"1\" class=\"dataframe\">\n",
       "  <thead>\n",
       "    <tr style=\"text-align: right;\">\n",
       "      <th></th>\n",
       "      <th>production_year</th>\n",
       "      <th>movie_sequel</th>\n",
       "      <th>creative_type</th>\n",
       "      <th>source</th>\n",
       "      <th>production_method</th>\n",
       "      <th>genre</th>\n",
       "      <th>language</th>\n",
       "      <th>board_rating_reason</th>\n",
       "      <th>movie_board_rating_display_name</th>\n",
       "      <th>movie_release_pattern_display_name</th>\n",
       "    </tr>\n",
       "  </thead>\n",
       "  <tbody>\n",
       "    <tr>\n",
       "      <th>0</th>\n",
       "      <td>2012</td>\n",
       "      <td>0</td>\n",
       "      <td>7</td>\n",
       "      <td>0</td>\n",
       "      <td>2</td>\n",
       "      <td>1</td>\n",
       "      <td>0</td>\n",
       "      <td>2</td>\n",
       "      <td>3</td>\n",
       "      <td>5</td>\n",
       "    </tr>\n",
       "    <tr>\n",
       "      <th>1</th>\n",
       "      <td>2012</td>\n",
       "      <td>1</td>\n",
       "      <td>7</td>\n",
       "      <td>0</td>\n",
       "      <td>2</td>\n",
       "      <td>0</td>\n",
       "      <td>0</td>\n",
       "      <td>3</td>\n",
       "      <td>3</td>\n",
       "      <td>5</td>\n",
       "    </tr>\n",
       "    <tr>\n",
       "      <th>2</th>\n",
       "      <td>2012</td>\n",
       "      <td>1</td>\n",
       "      <td>0</td>\n",
       "      <td>2</td>\n",
       "      <td>2</td>\n",
       "      <td>0</td>\n",
       "      <td>0</td>\n",
       "      <td>4</td>\n",
       "      <td>3</td>\n",
       "      <td>5</td>\n",
       "    </tr>\n",
       "    <tr>\n",
       "      <th>3</th>\n",
       "      <td>2012</td>\n",
       "      <td>1</td>\n",
       "      <td>3</td>\n",
       "      <td>2</td>\n",
       "      <td>2</td>\n",
       "      <td>5</td>\n",
       "      <td>0</td>\n",
       "      <td>4</td>\n",
       "      <td>3</td>\n",
       "      <td>5</td>\n",
       "    </tr>\n",
       "    <tr>\n",
       "      <th>4</th>\n",
       "      <td>2012</td>\n",
       "      <td>1</td>\n",
       "      <td>3</td>\n",
       "      <td>2</td>\n",
       "      <td>0</td>\n",
       "      <td>1</td>\n",
       "      <td>0</td>\n",
       "      <td>4</td>\n",
       "      <td>3</td>\n",
       "      <td>5</td>\n",
       "    </tr>\n",
       "  </tbody>\n",
       "</table>\n",
       "</div>"
      ],
      "text/plain": [
       "   production_year  movie_sequel  creative_type  source  production_method  \\\n",
       "0             2012             0              7       0                  2   \n",
       "1             2012             1              7       0                  2   \n",
       "2             2012             1              0       2                  2   \n",
       "3             2012             1              3       2                  2   \n",
       "4             2012             1              3       2                  0   \n",
       "\n",
       "   genre  language  board_rating_reason  movie_board_rating_display_name  \\\n",
       "0      1         0                    2                                3   \n",
       "1      0         0                    3                                3   \n",
       "2      0         0                    4                                3   \n",
       "3      5         0                    4                                3   \n",
       "4      1         0                    4                                3   \n",
       "\n",
       "   movie_release_pattern_display_name  \n",
       "0                                   5  \n",
       "1                                   5  \n",
       "2                                   5  \n",
       "3                                   5  \n",
       "4                                   5  "
      ]
     },
     "execution_count": 70,
     "metadata": {},
     "output_type": "execute_result"
    }
   ],
   "source": [
    "###Converting text into categories of sentiments\n",
    "\n",
    "from textblob import TextBlob\n",
    "\n",
    "reviews = X_scoring_test.iloc[:,7]\n",
    "\n",
    "i=0;\n",
    "\n",
    "for review in reviews:\n",
    "    text = TextBlob(review)\n",
    "    polarity=text.sentiment.polarity\n",
    "    \n",
    "    #positive to negative reaction (classification goes from 1 to 5)\n",
    "    if polarity>0.5 and polarity<1.0:\n",
    "        X_scoring_test.loc[i,'board_rating_reason'] = 1\n",
    "    elif polarity>0.2 and polarity<0.5:\n",
    "        X_scoring_test.loc[i,'board_rating_reason'] = 2\n",
    "    elif polarity>0.0 and polarity<0.2:\n",
    "        X_scoring_test.loc[i,'board_rating_reason'] = 3\n",
    "    elif polarity>-0.05 and polarity<-0.1:\n",
    "        X_scoring_test.loc[i,'board_rating_reason'] = 5\n",
    "    else:\n",
    "        X_scoring_test.loc[i,'board_rating_reason'] = 4\n",
    "    \n",
    "    i = i+1\n",
    "\n",
    "    \n",
    "X_scoring_test.head()"
   ]
  },
  {
   "cell_type": "code",
   "execution_count": 71,
   "metadata": {},
   "outputs": [
    {
     "name": "stdout",
     "output_type": "stream",
     "text": [
      "[8 8 7 7 7 8 8 9 8 9 8 8 2 9 8 7 7 2 8 8 8 2 8 9 8 8 5 7 5 8 8 8 7 5 8 8 4\n",
      " 8 7 8 8 5 7 8 5 8 8 8 8 5 8 5 2 8 6 5 5 8 6 9 2 8 8 2 2 7 8 8 8 8 8 8 2 8\n",
      " 7 2 2 5 8 8 8 8 5 2 8 2 8 5 8 8 8]\n"
     ]
    }
   ],
   "source": [
    "#Since Decision Tree Classifier is the best fitted model, we will use that model to predict the category based on scoring sheet.\n",
    "\n",
    "# Import decision tree\n",
    "from sklearn.tree import DecisionTreeClassifier\n",
    "\n",
    "# Build a decision tree model\n",
    "dtree = DecisionTreeClassifier()\n",
    "\n",
    "# Train the model\n",
    "dtree = dtree.fit(X_train, y_train)\n",
    "\n",
    "#Predicting ourtcome on dataset\n",
    "\n",
    "y_pred_dtree = dtree.predict(X_scoring_test)\n",
    "\n",
    "print(y_pred_dtree)\n",
    "\n",
    "Models.append(y_pred_dtree)\n",
    "\n"
   ]
  },
  {
   "cell_type": "code",
   "execution_count": 72,
   "metadata": {},
   "outputs": [
    {
     "name": "stdout",
     "output_type": "stream",
     "text": [
      "    Category\n",
      "0          8\n",
      "1          8\n",
      "2          7\n",
      "3          7\n",
      "4          7\n",
      "5          8\n",
      "6          8\n",
      "7          9\n",
      "8          8\n",
      "9          9\n",
      "10         8\n",
      "11         8\n",
      "12         2\n",
      "13         9\n",
      "14         8\n",
      "15         7\n",
      "16         7\n",
      "17         2\n",
      "18         8\n",
      "19         8\n",
      "20         8\n",
      "21         2\n",
      "22         8\n",
      "23         9\n",
      "24         8\n",
      "25         8\n",
      "26         5\n",
      "27         7\n",
      "28         5\n",
      "29         8\n",
      "..       ...\n",
      "61         8\n",
      "62         8\n",
      "63         2\n",
      "64         2\n",
      "65         7\n",
      "66         8\n",
      "67         8\n",
      "68         8\n",
      "69         8\n",
      "70         8\n",
      "71         8\n",
      "72         2\n",
      "73         8\n",
      "74         7\n",
      "75         2\n",
      "76         2\n",
      "77         5\n",
      "78         8\n",
      "79         8\n",
      "80         8\n",
      "81         8\n",
      "82         5\n",
      "83         2\n",
      "84         8\n",
      "85         2\n",
      "86         8\n",
      "87         5\n",
      "88         8\n",
      "89         8\n",
      "90         8\n",
      "\n",
      "[91 rows x 1 columns]\n"
     ]
    }
   ],
   "source": [
    "#Converting in Dataframe\n",
    "y_prediction = pd.DataFrame(y_pred_dtree)\n",
    "\n",
    "y_prediction.columns = [\"Category\"]\n",
    "\n",
    "print(y_prediction)"
   ]
  },
  {
   "cell_type": "code",
   "execution_count": 73,
   "metadata": {},
   "outputs": [
    {
     "data": {
      "text/html": [
       "<div>\n",
       "<style scoped>\n",
       "    .dataframe tbody tr th:only-of-type {\n",
       "        vertical-align: middle;\n",
       "    }\n",
       "\n",
       "    .dataframe tbody tr th {\n",
       "        vertical-align: top;\n",
       "    }\n",
       "\n",
       "    .dataframe thead th {\n",
       "        text-align: right;\n",
       "    }\n",
       "</style>\n",
       "<table border=\"1\" class=\"dataframe\">\n",
       "  <thead>\n",
       "    <tr style=\"text-align: right;\">\n",
       "      <th></th>\n",
       "      <th>id</th>\n",
       "      <th>name</th>\n",
       "      <th>display_name</th>\n",
       "      <th>production_budget</th>\n",
       "      <th>production_year</th>\n",
       "      <th>movie_sequel</th>\n",
       "      <th>creative_type</th>\n",
       "      <th>source</th>\n",
       "      <th>production_method</th>\n",
       "      <th>genre</th>\n",
       "      <th>language</th>\n",
       "      <th>board_rating_reason</th>\n",
       "      <th>movie_board_rating_display_name</th>\n",
       "      <th>movie_release_pattern_display_name</th>\n",
       "      <th>Category</th>\n",
       "    </tr>\n",
       "  </thead>\n",
       "  <tbody>\n",
       "    <tr>\n",
       "      <th>0</th>\n",
       "      <td>7970115</td>\n",
       "      <td>Avengers, The (2011)</td>\n",
       "      <td>Marvel's The Avengers</td>\n",
       "      <td>225000000</td>\n",
       "      <td>2012</td>\n",
       "      <td>0</td>\n",
       "      <td>Super Hero</td>\n",
       "      <td>Based on Comic/Graphic Novel</td>\n",
       "      <td>Live Action</td>\n",
       "      <td>Adventure</td>\n",
       "      <td>English</td>\n",
       "      <td>for intense sequences of sci-fi violence and a...</td>\n",
       "      <td>PG-13</td>\n",
       "      <td>Wide</td>\n",
       "      <td>8</td>\n",
       "    </tr>\n",
       "    <tr>\n",
       "      <th>1</th>\n",
       "      <td>174540115</td>\n",
       "      <td>Dark Knight Rises The</td>\n",
       "      <td>The Dark Knight Rises</td>\n",
       "      <td>0</td>\n",
       "      <td>2012</td>\n",
       "      <td>1</td>\n",
       "      <td>Super Hero</td>\n",
       "      <td>Based on Comic/Graphic Novel</td>\n",
       "      <td>Live Action</td>\n",
       "      <td>Action</td>\n",
       "      <td>English</td>\n",
       "      <td>for intense sequences of violence and action, ...</td>\n",
       "      <td>PG-13</td>\n",
       "      <td>Wide</td>\n",
       "      <td>8</td>\n",
       "    </tr>\n",
       "    <tr>\n",
       "      <th>2</th>\n",
       "      <td>149080115</td>\n",
       "      <td>Bond 23</td>\n",
       "      <td>Skyfall</td>\n",
       "      <td>200000000</td>\n",
       "      <td>2012</td>\n",
       "      <td>1</td>\n",
       "      <td>Contemporary Fiction</td>\n",
       "      <td>Based on Fiction Book/Short Story</td>\n",
       "      <td>Live Action</td>\n",
       "      <td>Action</td>\n",
       "      <td>English</td>\n",
       "      <td>for intense violent sequences throughout, some...</td>\n",
       "      <td>PG-13</td>\n",
       "      <td>Wide</td>\n",
       "      <td>7</td>\n",
       "    </tr>\n",
       "    <tr>\n",
       "      <th>3</th>\n",
       "      <td>136020115</td>\n",
       "      <td>Twilight Saga Breaking Dawn Part 2 The</td>\n",
       "      <td>The Twilight Saga: Breaking Dawn, Part 2</td>\n",
       "      <td>136200000</td>\n",
       "      <td>2012</td>\n",
       "      <td>1</td>\n",
       "      <td>Fantasy</td>\n",
       "      <td>Based on Fiction Book/Short Story</td>\n",
       "      <td>Live Action</td>\n",
       "      <td>Drama</td>\n",
       "      <td>English</td>\n",
       "      <td>for sequences of violence including disturbing...</td>\n",
       "      <td>PG-13</td>\n",
       "      <td>Wide</td>\n",
       "      <td>7</td>\n",
       "    </tr>\n",
       "    <tr>\n",
       "      <th>4</th>\n",
       "      <td>53500115</td>\n",
       "      <td>Hobbit, The</td>\n",
       "      <td>The Hobbit: An Unexpected Journey</td>\n",
       "      <td>270000000</td>\n",
       "      <td>2012</td>\n",
       "      <td>1</td>\n",
       "      <td>Fantasy</td>\n",
       "      <td>Based on Fiction Book/Short Story</td>\n",
       "      <td>Animation/Live Action</td>\n",
       "      <td>Adventure</td>\n",
       "      <td>English</td>\n",
       "      <td>for extended sequences of intense fantasy acti...</td>\n",
       "      <td>PG-13</td>\n",
       "      <td>Wide</td>\n",
       "      <td>7</td>\n",
       "    </tr>\n",
       "  </tbody>\n",
       "</table>\n",
       "</div>"
      ],
      "text/plain": [
       "          id                                    name  \\\n",
       "0    7970115                    Avengers, The (2011)   \n",
       "1  174540115                   Dark Knight Rises The   \n",
       "2  149080115                                 Bond 23   \n",
       "3  136020115  Twilight Saga Breaking Dawn Part 2 The   \n",
       "4   53500115                             Hobbit, The   \n",
       "\n",
       "                               display_name  production_budget  \\\n",
       "0                     Marvel's The Avengers          225000000   \n",
       "1                     The Dark Knight Rises                  0   \n",
       "2                                   Skyfall          200000000   \n",
       "3  The Twilight Saga: Breaking Dawn, Part 2          136200000   \n",
       "4         The Hobbit: An Unexpected Journey          270000000   \n",
       "\n",
       "   production_year  movie_sequel         creative_type  \\\n",
       "0             2012             0            Super Hero   \n",
       "1             2012             1            Super Hero   \n",
       "2             2012             1  Contemporary Fiction   \n",
       "3             2012             1               Fantasy   \n",
       "4             2012             1               Fantasy   \n",
       "\n",
       "                              source      production_method      genre  \\\n",
       "0       Based on Comic/Graphic Novel            Live Action  Adventure   \n",
       "1       Based on Comic/Graphic Novel            Live Action     Action   \n",
       "2  Based on Fiction Book/Short Story            Live Action     Action   \n",
       "3  Based on Fiction Book/Short Story            Live Action      Drama   \n",
       "4  Based on Fiction Book/Short Story  Animation/Live Action  Adventure   \n",
       "\n",
       "  language                                board_rating_reason  \\\n",
       "0  English  for intense sequences of sci-fi violence and a...   \n",
       "1  English  for intense sequences of violence and action, ...   \n",
       "2  English  for intense violent sequences throughout, some...   \n",
       "3  English  for sequences of violence including disturbing...   \n",
       "4  English  for extended sequences of intense fantasy acti...   \n",
       "\n",
       "  movie_board_rating_display_name movie_release_pattern_display_name  Category  \n",
       "0                           PG-13                               Wide         8  \n",
       "1                           PG-13                               Wide         8  \n",
       "2                           PG-13                               Wide         7  \n",
       "3                           PG-13                               Wide         7  \n",
       "4                           PG-13                               Wide         7  "
      ]
     },
     "execution_count": 73,
     "metadata": {},
     "output_type": "execute_result"
    }
   ],
   "source": [
    "##Appending prediction in scoring sheet\n",
    "\n",
    "scoring_sheet_prediction = scoring_sheet.join(y_prediction)\n",
    "\n",
    "scoring_sheet_prediction.head()"
   ]
  },
  {
   "cell_type": "code",
   "execution_count": 74,
   "metadata": {},
   "outputs": [],
   "source": [
    "###writing CSV file\n",
    "\n",
    "scoring_sheet_prediction.to_csv('scoring sheet prediction.csv')\n",
    "\n"
   ]
  }
 ],
 "metadata": {
  "kernelspec": {
   "display_name": "Python 3",
   "language": "python",
   "name": "python3"
  },
  "language_info": {
   "codemirror_mode": {
    "name": "ipython",
    "version": 3
   },
   "file_extension": ".py",
   "mimetype": "text/x-python",
   "name": "python",
   "nbconvert_exporter": "python",
   "pygments_lexer": "ipython3",
   "version": "3.7.1"
  }
 },
 "nbformat": 4,
 "nbformat_minor": 2
}
